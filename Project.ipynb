{
 "cells": [
  {
   "cell_type": "code",
   "execution_count": 1,
   "metadata": {
    "collapsed": true
   },
   "outputs": [],
   "source": [
    "import nltk\n",
    "from pathlib import Path\n",
    "import os.path\n",
    "import json\n",
    "import string\n",
    "import numpy as np\n",
    "import pandas as pd\n",
    "import os"
   ]
  },
  {
   "cell_type": "code",
   "execution_count": 16,
   "metadata": {
    "collapsed": true
   },
   "outputs": [],
   "source": [
    "try:\n",
    "    from StringIO import StringIO\n",
    "except ImportError:\n",
    "    from io import StringIO"
   ]
  },
  {
   "cell_type": "code",
   "execution_count": 17,
   "metadata": {
    "collapsed": false
   },
   "outputs": [],
   "source": [
    "from pdfminer.pdfinterp import PDFResourceManager, PDFPageInterpreter\n",
    "from pdfminer.converter import TextConverter\n",
    "from pdfminer.layout import LAParams\n",
    "from pdfminer.pdfpage import PDFPage\n",
    "\n",
    "def convert(fname, pages=None):\n",
    "    if not pages:\n",
    "        pagenums = set()\n",
    "    else:\n",
    "        pagenums = set(pages)\n",
    "\n",
    "    output = StringIO()\n",
    "    manager = PDFResourceManager()\n",
    "    converter = TextConverter(manager, output, laparams=LAParams())\n",
    "    interpreter = PDFPageInterpreter(manager, converter)\n",
    "    n=0\n",
    "    infile = open(fname, 'rb')\n",
    "    for page in PDFPage.get_pages(infile, pagenums):\n",
    "        #if n > 5:\n",
    "        interpreter.process_page(page)\n",
    "        n = n+1\n",
    "    infile.close()\n",
    "    converter.close()\n",
    "    text = output.getvalue()\n",
    "    output.close\n",
    "    return text"
   ]
  },
  {
   "cell_type": "code",
   "execution_count": 18,
   "metadata": {
    "collapsed": false,
    "scrolled": true
   },
   "outputs": [],
   "source": [
    "stories=list()\n",
    "path = Path(\"C:/Users/Sanigirl/Documents/nlp-tutorial/notebooks/train\")\n",
    "for f in path.iterdir():\n",
    "    if f.suffix=='.pdf':\n",
    "        mine= str(f)\n",
    "        text = convert(mine)\n",
    "        save_path = \"C:/Users/Sanigirl/Documents/nlp-tutorial/notebooks/texts_10-13\"\n",
    "        name_of_file = mine\n",
    "        completeName = os.path.join(save_path, name_of_file+\".txt\")     \n",
    "        file1 = open(completeName, \"w\", encoding=\"utf-8\")\n",
    "        file1.write(text)\n",
    "        file1.close()\n",
    "        stories.append(text)"
   ]
  },
  {
   "cell_type": "code",
   "execution_count": 19,
   "metadata": {
    "collapsed": true
   },
   "outputs": [],
   "source": [
    "ageGroup = list()\n",
    "for i in range(len(stories)):\n",
    "    ageGroup.append('10-13')\n",
    "import pandas as pd\n",
    "d = {'ageGroup': ageGroup, 'text': stories}\n",
    "train_data = pd.DataFrame(data=d)"
   ]
  },
  {
   "cell_type": "code",
   "execution_count": 20,
   "metadata": {
    "collapsed": false
   },
   "outputs": [
    {
     "data": {
      "text/html": [
       "<div>\n",
       "<table border=\"1\" class=\"dataframe\">\n",
       "  <thead>\n",
       "    <tr style=\"text-align: right;\">\n",
       "      <th></th>\n",
       "      <th>ageGroup</th>\n",
       "      <th>text</th>\n",
       "    </tr>\n",
       "  </thead>\n",
       "  <tbody>\n",
       "    <tr>\n",
       "      <th>0</th>\n",
       "      <td>10-13</td>\n",
       "      <td>The world’s\\nmost precise\\n\\nreplica\\n\\nof the...</td>\n",
       "    </tr>\n",
       "    <tr>\n",
       "      <th>1</th>\n",
       "      <td>10-13</td>\n",
       "      <td>Annabella 3 Hostage: Nick Creech \\n\\nPage 1\\n\\...</td>\n",
       "    </tr>\n",
       "    <tr>\n",
       "      <th>2</th>\n",
       "      <td>10-13</td>\n",
       "      <td>\\n\\n \\n\\n \\n \\n \\n \\n \\n \\n \\n \\n \\n \\n \\n \\n...</td>\n",
       "    </tr>\n",
       "    <tr>\n",
       "      <th>3</th>\n",
       "      <td>10-13</td>\n",
       "      <td>Bunnies From The Future – Joe Corcoran\\n\\nBunn...</td>\n",
       "    </tr>\n",
       "    <tr>\n",
       "      <th>4</th>\n",
       "      <td>10-13</td>\n",
       "      <td>A Burly and Grum Tale\\n\\nBURLY AND GRUM AND TH...</td>\n",
       "    </tr>\n",
       "    <tr>\n",
       "      <th>5</th>\n",
       "      <td>10-13</td>\n",
       "      <td>Cells\\n\\nLiteracy for Anywhere - Level 5\\n\\n01...</td>\n",
       "    </tr>\n",
       "    <tr>\n",
       "      <th>6</th>\n",
       "      <td>10-13</td>\n",
       "      <td>\\n\\n \\n\\n \\n\\n \\n\\nDaksha, the Medicine Girl ...</td>\n",
       "    </tr>\n",
       "    <tr>\n",
       "      <th>7</th>\n",
       "      <td>10-13</td>\n",
       "      <td>DO NOT FEED THE TROLL\\n\\n( Full eBook edition ...</td>\n",
       "    </tr>\n",
       "    <tr>\n",
       "      <th>8</th>\n",
       "      <td>10-13</td>\n",
       "      <td>MINISTRY OF REGIONAL DEVELOPMENT, \\nFORESTRY A...</td>\n",
       "    </tr>\n",
       "    <tr>\n",
       "      <th>9</th>\n",
       "      <td>10-13</td>\n",
       "      <td>GIFTED\\n\\nThe Super Seven – Book 2\\n\\nCelesta ...</td>\n",
       "    </tr>\n",
       "    <tr>\n",
       "      <th>10</th>\n",
       "      <td>10-13</td>\n",
       "      <td>\\n\\n \\n\\n \\n\\n \\n\\n \\n\\n \\n\\n\f",
       " \\n\\nGoat. And ...</td>\n",
       "    </tr>\n",
       "    <tr>\n",
       "      <th>11</th>\n",
       "      <td>10-13</td>\n",
       "      <td>Grum!\\n\\nRobyn Hill\\n\\nCopyright-2012 by Robyn...</td>\n",
       "    </tr>\n",
       "    <tr>\n",
       "      <th>12</th>\n",
       "      <td>10-13</td>\n",
       "      <td>How The Children Became Stars –http://www.atoz...</td>\n",
       "    </tr>\n",
       "    <tr>\n",
       "      <th>13</th>\n",
       "      <td>10-13</td>\n",
       "      <td>OUT OF PLACE\\nby Susha Golomb\\n\\nCopyright 201...</td>\n",
       "    </tr>\n",
       "    <tr>\n",
       "      <th>14</th>\n",
       "      <td>10-13</td>\n",
       "      <td>Piglet Gets A New Job\\n\\nPiglet Gets a New Job...</td>\n",
       "    </tr>\n",
       "    <tr>\n",
       "      <th>15</th>\n",
       "      <td>10-13</td>\n",
       "      <td>\\n\\n1 \\n\\n\f",
       "Pirate \\n\\nThe barking Kookaburra ...</td>\n",
       "    </tr>\n",
       "    <tr>\n",
       "      <th>16</th>\n",
       "      <td>10-13</td>\n",
       "      <td>Sarah Sues Santa – P.J. Leonard\\n\\nSarah Sues ...</td>\n",
       "    </tr>\n",
       "    <tr>\n",
       "      <th>17</th>\n",
       "      <td>10-13</td>\n",
       "      <td>SUGAR THE ROBOT\\n\\nand the race to save the ...</td>\n",
       "    </tr>\n",
       "    <tr>\n",
       "      <th>18</th>\n",
       "      <td>10-13</td>\n",
       "      <td>\\n\\n \\n\\n \\n\\n \\n \\n \\n \\n \\n\\nThe Blob, the ...</td>\n",
       "    </tr>\n",
       "  </tbody>\n",
       "</table>\n",
       "</div>"
      ],
      "text/plain": [
       "   ageGroup                                               text\n",
       "0     10-13  The world’s\\nmost precise\\n\\nreplica\\n\\nof the...\n",
       "1     10-13  Annabella 3 Hostage: Nick Creech \\n\\nPage 1\\n\\...\n",
       "2     10-13   \\n\\n \\n\\n \\n \\n \\n \\n \\n \\n \\n \\n \\n \\n \\n \\n...\n",
       "3     10-13  Bunnies From The Future – Joe Corcoran\\n\\nBunn...\n",
       "4     10-13  A Burly and Grum Tale\\n\\nBURLY AND GRUM AND TH...\n",
       "5     10-13  Cells\\n\\nLiteracy for Anywhere - Level 5\\n\\n01...\n",
       "6     10-13   \\n\\n \\n\\n \\n\\n \\n\\nDaksha, the Medicine Girl ...\n",
       "7     10-13  DO NOT FEED THE TROLL\\n\\n( Full eBook edition ...\n",
       "8     10-13  MINISTRY OF REGIONAL DEVELOPMENT, \\nFORESTRY A...\n",
       "9     10-13  GIFTED\\n\\nThe Super Seven – Book 2\\n\\nCelesta ...\n",
       "10    10-13   \\n\\n \\n\\n \\n\\n \\n\\n \\n\\n \\n\\n\n",
       " \\n\\nGoat. And ...\n",
       "11    10-13  Grum!\\n\\nRobyn Hill\\n\\nCopyright-2012 by Robyn...\n",
       "12    10-13  How The Children Became Stars –http://www.atoz...\n",
       "13    10-13  OUT OF PLACE\\nby Susha Golomb\\n\\nCopyright 201...\n",
       "14    10-13  Piglet Gets A New Job\\n\\nPiglet Gets a New Job...\n",
       "15    10-13   \\n\\n1 \\n\\n\n",
       "Pirate \\n\\nThe barking Kookaburra ...\n",
       "16    10-13  Sarah Sues Santa – P.J. Leonard\\n\\nSarah Sues ...\n",
       "17    10-13  \n",
       "\n",
       "SUGAR THE ROBOT\\n\\nand the race to save the ...\n",
       "18    10-13   \\n\\n \\n\\n \\n\\n \\n \\n \\n \\n \\n\\nThe Blob, the ..."
      ]
     },
     "execution_count": 20,
     "metadata": {},
     "output_type": "execute_result"
    }
   ],
   "source": [
    "train_data"
   ]
  },
  {
   "cell_type": "code",
   "execution_count": 21,
   "metadata": {
    "collapsed": false
   },
   "outputs": [],
   "source": [
    "stories=list()\n",
    "path = Path(\"C:/Users/Sanigirl/Documents/nlp-tutorial/notebooks/6-9_train\")\n",
    "for f in path.iterdir():\n",
    "    if f.suffix=='.pdf':\n",
    "        mine= str(f)\n",
    "        text = convert(mine)\n",
    "        save_path = \"C:/Users/Sanigirl/Documents/nlp-tutorial/notebooks/texts_6-9\"\n",
    "        name_of_file = mine\n",
    "        completeName = os.path.join(save_path, name_of_file+\".txt\")     \n",
    "        file1 = open(completeName, \"w\", encoding=\"utf-8\")\n",
    "        file1.write(text)\n",
    "        file1.close()\n",
    "        stories.append(text)"
   ]
  },
  {
   "cell_type": "code",
   "execution_count": 22,
   "metadata": {
    "collapsed": true
   },
   "outputs": [],
   "source": [
    "ageGroup = list()\n",
    "for i in range(len(stories)):\n",
    "    ageGroup.append('6-9')\n",
    "import pandas as pd\n",
    "d = {'ageGroup': ageGroup, 'text': stories}\n",
    "train_data1 = pd.DataFrame(data=d)"
   ]
  },
  {
   "cell_type": "code",
   "execution_count": 23,
   "metadata": {
    "collapsed": false
   },
   "outputs": [
    {
     "data": {
      "text/html": [
       "<div>\n",
       "<table border=\"1\" class=\"dataframe\">\n",
       "  <thead>\n",
       "    <tr style=\"text-align: right;\">\n",
       "      <th></th>\n",
       "      <th>ageGroup</th>\n",
       "      <th>text</th>\n",
       "    </tr>\n",
       "  </thead>\n",
       "  <tbody>\n",
       "    <tr>\n",
       "      <th>0</th>\n",
       "      <td>6-9</td>\n",
       "      <td>Captain Snatchit’s Parrot:\\n\\nThree Pirate Sto...</td>\n",
       "    </tr>\n",
       "    <tr>\n",
       "      <th>1</th>\n",
       "      <td>6-9</td>\n",
       "      <td>Cats\\n\\nLiteracy for Anywhere - Level 4\\n\\n01\\...</td>\n",
       "    </tr>\n",
       "    <tr>\n",
       "      <th>2</th>\n",
       "      <td>6-9</td>\n",
       "      <td>\\n \\n \\n \\n \\n \\n \\n \\n \\n \\n \\n \\n \\n \\n \\n ...</td>\n",
       "    </tr>\n",
       "    <tr>\n",
       "      <th>3</th>\n",
       "      <td>6-9</td>\n",
       "      <td>Clouds\\n\\nLiteracy for Anywhere - Level 3\\n\\n0...</td>\n",
       "    </tr>\n",
       "    <tr>\n",
       "      <th>4</th>\n",
       "      <td>6-9</td>\n",
       "      <td>DIVE!\\n\\nAuthor: Rajiv Eipe\\nIllustrator: Raji...</td>\n",
       "    </tr>\n",
       "    <tr>\n",
       "      <th>5</th>\n",
       "      <td>6-9</td>\n",
       "      <td>Elephants \\n\\n\f",
       "\f",
       "Elephants  are  the  \\nlargest...</td>\n",
       "    </tr>\n",
       "    <tr>\n",
       "      <th>6</th>\n",
       "      <td>6-9</td>\n",
       "      <td>Energy Ant is the host of the Energy Kids web...</td>\n",
       "    </tr>\n",
       "    <tr>\n",
       "      <th>7</th>\n",
       "      <td>6-9</td>\n",
       "      <td>Everything looks new!\\nAuthors: Mala Kumar, Ma...</td>\n",
       "    </tr>\n",
       "    <tr>\n",
       "      <th>8</th>\n",
       "      <td>6-9</td>\n",
       "      <td>FAIRY CIRCLES\\n ­ a true fairy tale \\n\\nDaniel...</td>\n",
       "    </tr>\n",
       "    <tr>\n",
       "      <th>9</th>\n",
       "      <td>6-9</td>\n",
       "      <td>SPELLING AND WRITING \\n\\nWORKBOOK G1\\n\\nLetter...</td>\n",
       "    </tr>\n",
       "    <tr>\n",
       "      <th>10</th>\n",
       "      <td>6-9</td>\n",
       "      <td>Spelling and Writing Worksheets from www.freek...</td>\n",
       "    </tr>\n",
       "    <tr>\n",
       "      <th>11</th>\n",
       "      <td>6-9</td>\n",
       "      <td>Frogs \\n\\n\f",
       "\f",
       "Frogs  are  small  animals  that  ...</td>\n",
       "    </tr>\n",
       "    <tr>\n",
       "      <th>12</th>\n",
       "      <td>6-9</td>\n",
       "      <td>Fruit\\n\\nLiteracy for Anywhere - Level 2\\n\\n01...</td>\n",
       "    </tr>\n",
       "    <tr>\n",
       "      <th>13</th>\n",
       "      <td>6-9</td>\n",
       "      <td>Fungus\\n\\nLiteracy for Anywhere - Level 2\\n\\n0...</td>\n",
       "    </tr>\n",
       "    <tr>\n",
       "      <th>14</th>\n",
       "      <td>6-9</td>\n",
       "      <td>The inspiring story of Graca Machel, and her d...</td>\n",
       "    </tr>\n",
       "    <tr>\n",
       "      <th>15</th>\n",
       "      <td>6-9</td>\n",
       "      <td>Grandma’s Glasses\\n\\nAuthor: Rohini Nilekani\\n...</td>\n",
       "    </tr>\n",
       "    <tr>\n",
       "      <th>16</th>\n",
       "      <td>6-9</td>\n",
       "      <td>Handmade in India\\n\\nAuthor: Olivia Fraser\\nIl...</td>\n",
       "    </tr>\n",
       "    <tr>\n",
       "      <th>17</th>\n",
       "      <td>6-9</td>\n",
       "      <td>A Helping Hand\\n\\nAuthor: Payal Dhar\\nIllustra...</td>\n",
       "    </tr>\n",
       "    <tr>\n",
       "      <th>18</th>\n",
       "      <td>6-9</td>\n",
       "      <td>How Old is Muttajji?\\n\\nAuthor: Roopa Pai\\nIll...</td>\n",
       "    </tr>\n",
       "    <tr>\n",
       "      <th>19</th>\n",
       "      <td>6-9</td>\n",
       "      <td>How The Children Became Stars –http://www.atoz...</td>\n",
       "    </tr>\n",
       "    <tr>\n",
       "      <th>20</th>\n",
       "      <td>6-9</td>\n",
       "      <td>I Really Want a Dog!\\n\\nAn introduction to dog...</td>\n",
       "    </tr>\n",
       "    <tr>\n",
       "      <th>21</th>\n",
       "      <td>6-9</td>\n",
       "      <td>Insects\\n\\nLiteracy for Anywhere - Level 1\\n\\n...</td>\n",
       "    </tr>\n",
       "    <tr>\n",
       "      <th>22</th>\n",
       "      <td>6-9</td>\n",
       "      <td>Inside the World Wide Web\\n\\nAuthor: Roopa Pai...</td>\n",
       "    </tr>\n",
       "    <tr>\n",
       "      <th>23</th>\n",
       "      <td>6-9</td>\n",
       "      <td>As June, her famil...</td>\n",
       "    </tr>\n",
       "    <tr>\n",
       "      <th>24</th>\n",
       "      <td>6-9</td>\n",
       "      <td>Monkey Travels\\nInspiring young minds\\n\\nWrit...</td>\n",
       "    </tr>\n",
       "    <tr>\n",
       "      <th>25</th>\n",
       "      <td>6-9</td>\n",
       "      <td>Penguins\\n\\nLiteracy for Anywhere - Level 3\\n\\...</td>\n",
       "    </tr>\n",
       "    <tr>\n",
       "      <th>26</th>\n",
       "      <td>6-9</td>\n",
       "      <td>Basetsana Kumalo is a beauty queen, but she’s ...</td>\n",
       "    </tr>\n",
       "    <tr>\n",
       "      <th>27</th>\n",
       "      <td>6-9</td>\n",
       "      <td>Sea Stars\\n\\nLiteracy for Anywhere - Level 1\\n...</td>\n",
       "    </tr>\n",
       "    <tr>\n",
       "      <th>28</th>\n",
       "      <td>6-9</td>\n",
       "      <td>Spelling and Writing Worksheets from www.freek...</td>\n",
       "    </tr>\n",
       "    <tr>\n",
       "      <th>29</th>\n",
       "      <td>6-9</td>\n",
       "      <td>Learn about the amazing life of a   \\nlittle g...</td>\n",
       "    </tr>\n",
       "    <tr>\n",
       "      <th>30</th>\n",
       "      <td>6-9</td>\n",
       "      <td>The Stinky Little\\n\\nKitten \\n\\nBy Jim Peterso...</td>\n",
       "    </tr>\n",
       "    <tr>\n",
       "      <th>31</th>\n",
       "      <td>6-9</td>\n",
       "      <td>\\n\\nV\\ne\\nr\\nl\\ny\\nn\\nT\\na\\nr\\nl\\nt\\no\\nn\\n\\n...</td>\n",
       "    </tr>\n",
       "    <tr>\n",
       "      <th>32</th>\n",
       "      <td>6-9</td>\n",
       "      <td>The\\tBlackout\\n\\nBy\\tKanika\\tG\\n\\nEdited\\tby\\...</td>\n",
       "    </tr>\n",
       "    <tr>\n",
       "      <th>33</th>\n",
       "      <td>6-9</td>\n",
       "      <td>Tania\\tAttends\\tA\\tWedding\\n\\nBy\\tKanika\\tG\\n...</td>\n",
       "    </tr>\n",
       "    <tr>\n",
       "      <th>34</th>\n",
       "      <td>6-9</td>\n",
       "      <td>Tania\\tLoses\\tA\\tTooth\\n\\nBy\\tKanika\\tG\\n\\nEd...</td>\n",
       "    </tr>\n",
       "    <tr>\n",
       "      <th>35</th>\n",
       "      <td>6-9</td>\n",
       "      <td>Tania's\\tMartian\\tEncounter\\n\\nBy\\tKanika\\tG\\...</td>\n",
       "    </tr>\n",
       "    <tr>\n",
       "      <th>36</th>\n",
       "      <td>6-9</td>\n",
       "      <td>Tania's\\tSafari\\tAdventure\\n\\nBy\\tKanika\\tG\\n...</td>\n",
       "    </tr>\n",
       "    <tr>\n",
       "      <th>37</th>\n",
       "      <td>6-9</td>\n",
       "      <td>Tania's\\tSlumber\\tParty\\n\\nBy\\tKanika\\tG\\n\\nE...</td>\n",
       "    </tr>\n",
       "    <tr>\n",
       "      <th>38</th>\n",
       "      <td>6-9</td>\n",
       "      <td>The Elephant Bird\\nAuthor: Arefa Tehsin\\nIllus...</td>\n",
       "    </tr>\n",
       "    <tr>\n",
       "      <th>39</th>\n",
       "      <td>6-9</td>\n",
       "      <td>The\\tMysterious\\tUncle\\tUh-Oh\\n\\nBy\\n\\nKanika...</td>\n",
       "    </tr>\n",
       "    <tr>\n",
       "      <th>40</th>\n",
       "      <td>6-9</td>\n",
       "      <td>\\n\\nTHE \\n\\n \\n\\n \\n\\n \\n\\n \\n\\n \\n\\n \\n\\n \\n...</td>\n",
       "    </tr>\n",
       "    <tr>\n",
       "      <th>41</th>\n",
       "      <td>6-9</td>\n",
       "      <td>The Story of Stories\\n\\nAuthor: Roopa Pai\\nIll...</td>\n",
       "    </tr>\n",
       "    <tr>\n",
       "      <th>42</th>\n",
       "      <td>6-9</td>\n",
       "      <td>Tigers \\n\\n\f",
       "\f",
       "   Tigers  are  big  cats \\n   th...</td>\n",
       "    </tr>\n",
       "    <tr>\n",
       "      <th>43</th>\n",
       "      <td>6-9</td>\n",
       "      <td>WE ARE \\nAUSSIE\\nby C. Feih- Heck\\n\\nCopyrigh...</td>\n",
       "    </tr>\n",
       "    <tr>\n",
       "      <th>44</th>\n",
       "      <td>6-9</td>\n",
       "      <td>Whales \\n\\n\f",
       "\f",
       "Whales  are  the  biggest  animal...</td>\n",
       "    </tr>\n",
       "    <tr>\n",
       "      <th>45</th>\n",
       "      <td>6-9</td>\n",
       "      <td>\\nZanele Situ\\n          My story\\n\\...</td>\n",
       "    </tr>\n",
       "  </tbody>\n",
       "</table>\n",
       "</div>"
      ],
      "text/plain": [
       "   ageGroup                                               text\n",
       "0       6-9  Captain Snatchit’s Parrot:\\n\\nThree Pirate Sto...\n",
       "1       6-9  Cats\\n\\nLiteracy for Anywhere - Level 4\\n\\n01\\...\n",
       "2       6-9   \\n \\n \\n \\n \\n \\n \\n \\n \\n \\n \\n \\n \\n \\n \\n ...\n",
       "3       6-9  Clouds\\n\\nLiteracy for Anywhere - Level 3\\n\\n0...\n",
       "4       6-9  DIVE!\\n\\nAuthor: Rajiv Eipe\\nIllustrator: Raji...\n",
       "5       6-9  Elephants \\n\\n\n",
       "\n",
       "Elephants  are  the  \\nlargest...\n",
       "6       6-9  \n",
       "Energy Ant is the host of the Energy Kids web...\n",
       "7       6-9  Everything looks new!\\nAuthors: Mala Kumar, Ma...\n",
       "8       6-9  FAIRY CIRCLES\\n ­ a true fairy tale \\n\\nDaniel...\n",
       "9       6-9  SPELLING AND WRITING \\n\\nWORKBOOK G1\\n\\nLetter...\n",
       "10      6-9  Spelling and Writing Worksheets from www.freek...\n",
       "11      6-9  Frogs \\n\\n\n",
       "\n",
       "Frogs  are  small  animals  that  ...\n",
       "12      6-9  Fruit\\n\\nLiteracy for Anywhere - Level 2\\n\\n01...\n",
       "13      6-9  Fungus\\n\\nLiteracy for Anywhere - Level 2\\n\\n0...\n",
       "14      6-9  The inspiring story of Graca Machel, and her d...\n",
       "15      6-9  Grandma’s Glasses\\n\\nAuthor: Rohini Nilekani\\n...\n",
       "16      6-9  Handmade in India\\n\\nAuthor: Olivia Fraser\\nIl...\n",
       "17      6-9  A Helping Hand\\n\\nAuthor: Payal Dhar\\nIllustra...\n",
       "18      6-9  How Old is Muttajji?\\n\\nAuthor: Roopa Pai\\nIll...\n",
       "19      6-9  How The Children Became Stars –http://www.atoz...\n",
       "20      6-9  I Really Want a Dog!\\n\\nAn introduction to dog...\n",
       "21      6-9  Insects\\n\\nLiteracy for Anywhere - Level 1\\n\\n...\n",
       "22      6-9  Inside the World Wide Web\\n\\nAuthor: Roopa Pai...\n",
       "23      6-9  \n",
       "\n",
       "\n",
       "\n",
       "\n",
       "\n",
       "\n",
       "\n",
       "\n",
       "\n",
       "\n",
       "\n",
       "\n",
       "\n",
       "\n",
       "\n",
       "\n",
       "\n",
       "\n",
       "\n",
       "\n",
       "\n",
       "\n",
       "\n",
       "\n",
       "\n",
       "\n",
       "\n",
       "As June, her famil...\n",
       "24      6-9  \n",
       "Monkey Travels\\nInspiring young minds\\n\\nWrit...\n",
       "25      6-9  Penguins\\n\\nLiteracy for Anywhere - Level 3\\n\\...\n",
       "26      6-9  Basetsana Kumalo is a beauty queen, but she’s ...\n",
       "27      6-9  Sea Stars\\n\\nLiteracy for Anywhere - Level 1\\n...\n",
       "28      6-9  Spelling and Writing Worksheets from www.freek...\n",
       "29      6-9  Learn about the amazing life of a   \\nlittle g...\n",
       "30      6-9  The Stinky Little\\n\\nKitten \\n\\nBy Jim Peterso...\n",
       "31      6-9   \\n\\nV\\ne\\nr\\nl\\ny\\nn\\nT\\na\\nr\\nl\\nt\\no\\nn\\n\\n...\n",
       "32      6-9  \n",
       "The\\tBlackout\\n\\nBy\\tKanika\\tG\\n\\nEdited\\tby\\...\n",
       "33      6-9  \n",
       "Tania\\tAttends\\tA\\tWedding\\n\\nBy\\tKanika\\tG\\n...\n",
       "34      6-9  \n",
       "Tania\\tLoses\\tA\\tTooth\\n\\nBy\\tKanika\\tG\\n\\nEd...\n",
       "35      6-9  \n",
       "Tania's\\tMartian\\tEncounter\\n\\nBy\\tKanika\\tG\\...\n",
       "36      6-9  \n",
       "Tania's\\tSafari\\tAdventure\\n\\nBy\\tKanika\\tG\\n...\n",
       "37      6-9  \n",
       "Tania's\\tSlumber\\tParty\\n\\nBy\\tKanika\\tG\\n\\nE...\n",
       "38      6-9  The Elephant Bird\\nAuthor: Arefa Tehsin\\nIllus...\n",
       "39      6-9  \n",
       "The\\tMysterious\\tUncle\\tUh-Oh\\n\\nBy\\n\\nKanika...\n",
       "40      6-9   \\n\\nTHE \\n\\n \\n\\n \\n\\n \\n\\n \\n\\n \\n\\n \\n\\n \\n...\n",
       "41      6-9  The Story of Stories\\n\\nAuthor: Roopa Pai\\nIll...\n",
       "42      6-9  Tigers \\n\\n\n",
       "\n",
       "   Tigers  are  big  cats \\n   th...\n",
       "43      6-9  \n",
       "WE ARE \\nAUSSIE\\nby C. Feih- Heck\\n\\nCopyrigh...\n",
       "44      6-9  Whales \\n\\n\n",
       "\n",
       "Whales  are  the  biggest  animal...\n",
       "45      6-9            \\nZanele Situ\\n          My story\\n\\..."
      ]
     },
     "execution_count": 23,
     "metadata": {},
     "output_type": "execute_result"
    }
   ],
   "source": [
    "train_data1"
   ]
  },
  {
   "cell_type": "code",
   "execution_count": 24,
   "metadata": {
    "collapsed": false
   },
   "outputs": [],
   "source": [
    "stories=list()\n",
    "path = Path(\"C:/Users/Sanigirl/Documents/nlp-tutorial/notebooks/14-17_train\")\n",
    "for f in path.iterdir():\n",
    "    if f.suffix=='.pdf':\n",
    "        mine= str(f)\n",
    "        text = convert(mine)\n",
    "        save_path = \"C:/Users/Sanigirl/Documents/nlp-tutorial/notebooks/texts_14-17\"\n",
    "        name_of_file = mine\n",
    "        completeName = os.path.join(save_path, name_of_file+\".txt\")     \n",
    "        file1 = open(completeName, \"w\", encoding=\"utf-8\")\n",
    "        file1.write(text)\n",
    "        file1.close()\n",
    "        stories.append(text)"
   ]
  },
  {
   "cell_type": "code",
   "execution_count": 25,
   "metadata": {
    "collapsed": true
   },
   "outputs": [],
   "source": [
    "ageGroup = list()\n",
    "for i in range(len(stories)):\n",
    "    ageGroup.append('14-17')\n",
    "import pandas as pd\n",
    "d = {'ageGroup': ageGroup, 'text': stories}\n",
    "train_data2 = pd.DataFrame(data=d)"
   ]
  },
  {
   "cell_type": "code",
   "execution_count": 26,
   "metadata": {
    "collapsed": false
   },
   "outputs": [
    {
     "data": {
      "text/html": [
       "<div>\n",
       "<table border=\"1\" class=\"dataframe\">\n",
       "  <thead>\n",
       "    <tr style=\"text-align: right;\">\n",
       "      <th></th>\n",
       "      <th>ageGroup</th>\n",
       "      <th>text</th>\n",
       "    </tr>\n",
       "  </thead>\n",
       "  <tbody>\n",
       "    <tr>\n",
       "      <th>0</th>\n",
       "      <td>14-17</td>\n",
       "      <td>\\n\\n \\n \\n\\n \\n \\n\\nA way with Dragons \\n\\n \\...</td>\n",
       "    </tr>\n",
       "    <tr>\n",
       "      <th>1</th>\n",
       "      <td>14-17</td>\n",
       "      <td>Annabella 3 Hostage: Nick Creech \\n\\nPage 1\\n\\...</td>\n",
       "    </tr>\n",
       "    <tr>\n",
       "      <th>2</th>\n",
       "      <td>14-17</td>\n",
       "      <td>\\n \\n \\n \\n \\n \\n \\n \\n \\n \\n \\n \\n \\n \\n \\n...</td>\n",
       "    </tr>\n",
       "    <tr>\n",
       "      <th>3</th>\n",
       "      <td>14-17</td>\n",
       "      <td>Galiconia – Nick Creech\\n\\nGaliconia\\n\\nBy Nic...</td>\n",
       "    </tr>\n",
       "    <tr>\n",
       "      <th>4</th>\n",
       "      <td>14-17</td>\n",
       "      <td>\\n \\n \\n \\n \\n \\n \\n \\n \\n \\n \\n \\n \\n \\n \\n ...</td>\n",
       "    </tr>\n",
       "    <tr>\n",
       "      <th>5</th>\n",
       "      <td>14-17</td>\n",
       "      <td>1.\\n\\nAbout this Book\\n\\n\f",
       "2.\\n\\nKon’nichi wa, ...</td>\n",
       "    </tr>\n",
       "    <tr>\n",
       "      <th>6</th>\n",
       "      <td>14-17</td>\n",
       "      <td>AMERICAN \\nTEENS TALK!\\n\\n16-20706 American Te...</td>\n",
       "    </tr>\n",
       "    <tr>\n",
       "      <th>7</th>\n",
       "      <td>14-17</td>\n",
       "      <td>\\n\\n \\n\\n \\n\\n \\n \\n \\n \\n \\n\\nThe Blob, the ...</td>\n",
       "    </tr>\n",
       "  </tbody>\n",
       "</table>\n",
       "</div>"
      ],
      "text/plain": [
       "  ageGroup                                               text\n",
       "0    14-17   \\n\\n \\n \\n\\n \\n \\n\\nA way with Dragons \\n\\n \\...\n",
       "1    14-17  Annabella 3 Hostage: Nick Creech \\n\\nPage 1\\n\\...\n",
       "2    14-17  \n",
       " \\n \\n \\n \\n \\n \\n \\n \\n \\n \\n \\n \\n \\n \\n \\n...\n",
       "3    14-17  Galiconia – Nick Creech\\n\\nGaliconia\\n\\nBy Nic...\n",
       "4    14-17   \\n \\n \\n \\n \\n \\n \\n \\n \\n \\n \\n \\n \\n \\n \\n ...\n",
       "5    14-17  1.\\n\\nAbout this Book\\n\\n\n",
       "2.\\n\\nKon’nichi wa, ...\n",
       "6    14-17  AMERICAN \\nTEENS TALK!\\n\\n16-20706 American Te...\n",
       "7    14-17   \\n\\n \\n\\n \\n\\n \\n \\n \\n \\n \\n\\nThe Blob, the ..."
      ]
     },
     "execution_count": 26,
     "metadata": {},
     "output_type": "execute_result"
    }
   ],
   "source": [
    "train_data2"
   ]
  },
  {
   "cell_type": "code",
   "execution_count": 32,
   "metadata": {
    "collapsed": false
   },
   "outputs": [],
   "source": [
    "stories=list()\n",
    "path = Path(\"C:/Users/Sanigirl/Documents/nlp-tutorial/notebooks/adult_train\")\n",
    "for f in path.iterdir():\n",
    "    mine= str(f)\n",
    "    text = convert(mine)\n",
    "    save_path = \"C:/Users/Sanigirl/Documents/nlp-tutorial/notebooks/texts_18-80\"\n",
    "    completeName = os.path.join(save_path, mine+\".txt\")     \n",
    "    file1 = open(completeName, \"w\", encoding=\"utf-8\")\n",
    "    file1.write(text)\n",
    "    file1.close()\n",
    "    stories.append(text)"
   ]
  },
  {
   "cell_type": "code",
   "execution_count": 33,
   "metadata": {
    "collapsed": true
   },
   "outputs": [],
   "source": [
    "ageGroup = list()\n",
    "for i in range(len(stories)):\n",
    "    ageGroup.append('18-80')#\n",
    "import pandas as pd\n",
    "d = {'ageGroup': ageGroup, 'text': stories}\n",
    "train_data3 = pd.DataFrame(data=d)"
   ]
  },
  {
   "cell_type": "code",
   "execution_count": 34,
   "metadata": {
    "collapsed": false
   },
   "outputs": [],
   "source": [
    "#train_data3"
   ]
  },
  {
   "cell_type": "code",
   "execution_count": 35,
   "metadata": {
    "collapsed": true
   },
   "outputs": [],
   "source": [
    "frames = [train_data, train_data1, train_data2, train_data3]\n",
    "result = pd.concat(frames, ignore_index=True)"
   ]
  },
  {
   "cell_type": "code",
   "execution_count": 87,
   "metadata": {
    "collapsed": true
   },
   "outputs": [],
   "source": [
    "data_6_9= result[result['ageGroup']=='6-9']\n",
    "data_10_13= result[result['ageGroup']=='10-13']\n",
    "data_14_17= result[result['ageGroup']=='14-17']\n",
    "data_18_80= result[result['ageGroup']=='18-80']"
   ]
  },
  {
   "cell_type": "code",
   "execution_count": 45,
   "metadata": {
    "collapsed": false
   },
   "outputs": [
    {
     "data": {
      "text/html": [
       "<div>\n",
       "<table border=\"1\" class=\"dataframe\">\n",
       "  <thead>\n",
       "    <tr style=\"text-align: right;\">\n",
       "      <th></th>\n",
       "      <th>ageGroup</th>\n",
       "      <th>text</th>\n",
       "    </tr>\n",
       "  </thead>\n",
       "  <tbody>\n",
       "    <tr>\n",
       "      <th>19</th>\n",
       "      <td>6-9</td>\n",
       "      <td>Captain Snatchit’s Parrot:\\n\\nThree Pirate Sto...</td>\n",
       "    </tr>\n",
       "    <tr>\n",
       "      <th>20</th>\n",
       "      <td>6-9</td>\n",
       "      <td>Cats\\n\\nLiteracy for Anywhere - Level 4\\n\\n01\\...</td>\n",
       "    </tr>\n",
       "    <tr>\n",
       "      <th>21</th>\n",
       "      <td>6-9</td>\n",
       "      <td>\\n \\n \\n \\n \\n \\n \\n \\n \\n \\n \\n \\n \\n \\n \\n ...</td>\n",
       "    </tr>\n",
       "    <tr>\n",
       "      <th>22</th>\n",
       "      <td>6-9</td>\n",
       "      <td>Clouds\\n\\nLiteracy for Anywhere - Level 3\\n\\n0...</td>\n",
       "    </tr>\n",
       "    <tr>\n",
       "      <th>23</th>\n",
       "      <td>6-9</td>\n",
       "      <td>DIVE!\\n\\nAuthor: Rajiv Eipe\\nIllustrator: Raji...</td>\n",
       "    </tr>\n",
       "  </tbody>\n",
       "</table>\n",
       "</div>"
      ],
      "text/plain": [
       "   ageGroup                                               text\n",
       "19      6-9  Captain Snatchit’s Parrot:\\n\\nThree Pirate Sto...\n",
       "20      6-9  Cats\\n\\nLiteracy for Anywhere - Level 4\\n\\n01\\...\n",
       "21      6-9   \\n \\n \\n \\n \\n \\n \\n \\n \\n \\n \\n \\n \\n \\n \\n ...\n",
       "22      6-9  Clouds\\n\\nLiteracy for Anywhere - Level 3\\n\\n0...\n",
       "23      6-9  DIVE!\\n\\nAuthor: Rajiv Eipe\\nIllustrator: Raji..."
      ]
     },
     "execution_count": 45,
     "metadata": {},
     "output_type": "execute_result"
    }
   ],
   "source": [
    "data_6_9[:5]"
   ]
  },
  {
   "cell_type": "code",
   "execution_count": 93,
   "metadata": {
    "collapsed": false
   },
   "outputs": [],
   "source": [
    "text_6_9=[w for w in data_6_9.text]\n",
    "text_10_13=[w for w in data_10_13.text]\n",
    "text_14_17=[w for w in data_14_17.text]\n",
    "text_18_80=[w for w in data_18_80.text]"
   ]
  },
  {
   "cell_type": "code",
   "execution_count": 118,
   "metadata": {
    "collapsed": false
   },
   "outputs": [],
   "source": [
    "from collections import Counter\n",
    "import string\n",
    "from nltk.tokenize import word_tokenize\n",
    "from nltk.corpus import stopwords\n",
    "\n",
    "stop_list = stopwords.words('english') + list(string.punctuation)\n",
    "\n",
    "document_frequency = Counter()\n",
    "\n",
    "for content in text_18_80:\n",
    "    try:  # py3\n",
    "        tokens = word_tokenize(content)\n",
    "    except UnicodeDecodeError:  # py27\n",
    "        tokens = word_tokenize(content.decode('utf-8'))\n",
    "    unique_tokens = [token.lower() for token in set(tokens)\n",
    "                     if token.lower() not in stop_list]\n",
    "    document_frequency.update(unique_tokens)"
   ]
  },
  {
   "cell_type": "code",
   "execution_count": 119,
   "metadata": {
    "collapsed": true
   },
   "outputs": [],
   "source": [
    "unique_tokens=[w for w in unique_tokens if w.isalpha()]"
   ]
  },
  {
   "cell_type": "code",
   "execution_count": 120,
   "metadata": {
    "collapsed": false
   },
   "outputs": [],
   "source": [
    "with open('C:/Users/Sanigirl/Documents/nlp-tutorial/notebooks/cleaned_words/18_80.txt','a', encoding=\"utf-8\") as f:\n",
    "    for t in unique_tokens:\n",
    "        print(t, file=f)"
   ]
  },
  {
   "cell_type": "code",
   "execution_count": null,
   "metadata": {
    "collapsed": true
   },
   "outputs": [],
   "source": [
    "###################################################################cleaning test data"
   ]
  },
  {
   "cell_type": "code",
   "execution_count": 121,
   "metadata": {
    "collapsed": true
   },
   "outputs": [],
   "source": [
    "stories=list()\n",
    "path = Path(\"C:/Users/Sanigirl/Documents/nlp-tutorial/notebooks/6-9_test\")\n",
    "for f in path.iterdir():\n",
    "    if f.suffix=='.pdf':\n",
    "        mine= str(f)\n",
    "        text = convert(mine)\n",
    "        stories.append(text)"
   ]
  },
  {
   "cell_type": "code",
   "execution_count": 122,
   "metadata": {
    "collapsed": true
   },
   "outputs": [],
   "source": [
    "ageGroup = list()\n",
    "for i in range(len(stories)):\n",
    "    ageGroup.append('6-9')\n",
    "import pandas as pd\n",
    "d = {'ageGroup': ageGroup, 'text': stories}\n",
    "test1 = pd.DataFrame(data=d)"
   ]
  },
  {
   "cell_type": "code",
   "execution_count": 134,
   "metadata": {
    "collapsed": true
   },
   "outputs": [],
   "source": [
    "stories=list()\n",
    "path = Path(\"C:/Users/Sanigirl/Documents/nlp-tutorial/notebooks/10-13_test\")\n",
    "for f in path.iterdir():\n",
    "    if f.suffix=='.pdf':\n",
    "        mine= str(f)\n",
    "        text = convert(mine)\n",
    "        stories.append(text)"
   ]
  },
  {
   "cell_type": "code",
   "execution_count": 135,
   "metadata": {
    "collapsed": true
   },
   "outputs": [],
   "source": [
    "ageGroup = list()\n",
    "for i in range(len(stories)):\n",
    "    ageGroup.append('10-13')\n",
    "import pandas as pd\n",
    "d = {'ageGroup': ageGroup, 'text': stories}\n",
    "test2 = pd.DataFrame(data=d)"
   ]
  },
  {
   "cell_type": "code",
   "execution_count": 130,
   "metadata": {
    "collapsed": true
   },
   "outputs": [],
   "source": [
    "stories=list()\n",
    "path = Path(\"C:/Users/Sanigirl/Documents/nlp-tutorial/notebooks/14-17_test\")\n",
    "for f in path.iterdir():\n",
    "    if f.suffix=='.pdf':\n",
    "        mine= str(f)\n",
    "        text = convert(mine)\n",
    "        stories.append(text)"
   ]
  },
  {
   "cell_type": "code",
   "execution_count": 131,
   "metadata": {
    "collapsed": true
   },
   "outputs": [],
   "source": [
    "ageGroup = list()\n",
    "for i in range(len(stories)):\n",
    "    ageGroup.append('14-17')\n",
    "import pandas as pd\n",
    "d = {'ageGroup': ageGroup, 'text': stories}\n",
    "test3 = pd.DataFrame(data=d)"
   ]
  },
  {
   "cell_type": "code",
   "execution_count": 132,
   "metadata": {
    "collapsed": false
   },
   "outputs": [],
   "source": [
    "stories=list()\n",
    "path = Path(\"C:/Users/Sanigirl/Documents/nlp-tutorial/notebooks/adult_test\")\n",
    "for f in path.iterdir():\n",
    "    if f.suffix=='.pdf':\n",
    "        mine= str(f)\n",
    "        text = convert(mine)\n",
    "        stories.append(text)"
   ]
  },
  {
   "cell_type": "code",
   "execution_count": 133,
   "metadata": {
    "collapsed": true
   },
   "outputs": [],
   "source": [
    "ageGroup = list()\n",
    "for i in range(len(stories)):\n",
    "    ageGroup.append('18-80')\n",
    "import pandas as pd\n",
    "d = {'ageGroup': ageGroup, 'text': stories}\n",
    "test4 = pd.DataFrame(data=d)"
   ]
  },
  {
   "cell_type": "code",
   "execution_count": 138,
   "metadata": {
    "collapsed": true
   },
   "outputs": [],
   "source": [
    "frames = [test1,test2,test3,test4]\n",
    "result_test = pd.concat(frames, ignore_index=True)"
   ]
  },
  {
   "cell_type": "code",
   "execution_count": 140,
   "metadata": {
    "collapsed": true
   },
   "outputs": [],
   "source": [
    "data_6_9_test= result[result['ageGroup']=='6-9']\n",
    "data_10_13_test= result[result['ageGroup']=='10-13']\n",
    "data_14_17_test= result[result['ageGroup']=='14-17']\n",
    "data_18_80_test= result[result['ageGroup']=='18-80']"
   ]
  },
  {
   "cell_type": "code",
   "execution_count": 143,
   "metadata": {
    "collapsed": false
   },
   "outputs": [],
   "source": [
    "text_6_9_test=[w for w in data_6_9.text]\n",
    "text_10_13_test=[w for w in data_10_13.text]\n",
    "text_14_17_test=[w for w in data_14_17.text]\n",
    "text_18_80_test=[w for w in data_18_80.text]"
   ]
  },
  {
   "cell_type": "code",
   "execution_count": 151,
   "metadata": {
    "collapsed": false
   },
   "outputs": [],
   "source": [
    "for content in text_18_80_test:\n",
    "    try:  # py3\n",
    "        tokens = word_tokenize(content)\n",
    "    except UnicodeDecodeError:  # py27\n",
    "        tokens = word_tokenize(content.decode('utf-8'))\n",
    "    unique_tokens = [token.lower() for token in set(tokens)\n",
    "                     if token.lower() not in stop_list]"
   ]
  },
  {
   "cell_type": "code",
   "execution_count": 152,
   "metadata": {
    "collapsed": false
   },
   "outputs": [],
   "source": [
    "unique_tokens=[w for w in unique_tokens if w.isalpha()]\n",
    "with open('C:/Users/Sanigirl/Documents/nlp-tutorial/notebooks/cleaned_test_words/18_80.txt','a', encoding=\"utf-8\") as f:\n",
    "    for t in unique_tokens:\n",
    "        print(t, file=f)"
   ]
  },
  {
   "cell_type": "code",
   "execution_count": null,
   "metadata": {
    "collapsed": true
   },
   "outputs": [],
   "source": []
  },
  {
   "cell_type": "code",
   "execution_count": 2,
   "metadata": {
    "collapsed": true
   },
   "outputs": [],
   "source": [
    "tokenizer = nltk.data.load('tokenizers/punkt/english.pickle')"
   ]
  },
  {
   "cell_type": "code",
   "execution_count": 3,
   "metadata": {
    "collapsed": true
   },
   "outputs": [],
   "source": [
    "#For creating the train and test data for the adult category"
   ]
  },
  {
   "cell_type": "code",
   "execution_count": 4,
   "metadata": {
    "collapsed": false
   },
   "outputs": [],
   "source": [
    "data_folder=os.path.join('data','texts_18-80')\n",
    "all_files=[os.path.join(data_folder, fname) for fname in os.listdir(data_folder)]\n",
    "\n",
    "train_6_9={}\n",
    "test_6_9={}\n",
    "count=0\n",
    "\n",
    "for d in all_files:\n",
    "    bname=os.path.basename(d)\n",
    "    file_num=os.path.splitext(bname)[0]\n",
    "    with open(d, 'r') as f:\n",
    "        if count <=5:\n",
    "            test_6_9[file_num]=f.read()\n",
    "        elif count in range(5, 30):\n",
    "            train_6_9[file_num]=f.read()\n",
    "        count=count+1  "
   ]
  },
  {
   "cell_type": "code",
   "execution_count": 5,
   "metadata": {
    "collapsed": true
   },
   "outputs": [],
   "source": [
    "#Syllables function for the Flesch Kincaid readability"
   ]
  },
  {
   "cell_type": "code",
   "execution_count": 6,
   "metadata": {
    "collapsed": true
   },
   "outputs": [],
   "source": [
    "def syllables(word):\n",
    "    count = 0\n",
    "    vowels = 'aeiou'    \n",
    "    if word[0] in vowels:\n",
    "        count +=1\n",
    "    for index in range(1,len(word)):\n",
    "        if word[index] in vowels and word[index-1] not in vowels:\n",
    "            count +=1\n",
    "        if word.endswith('e'):\n",
    "            count -= 1\n",
    "        if word.endswith('le'):\n",
    "            count+=1\n",
    "        if word.endswith('ie'):\n",
    "            count+=1\n",
    "        if count == 0:\n",
    "            count +=1\n",
    "    return count"
   ]
  },
  {
   "cell_type": "code",
   "execution_count": 7,
   "metadata": {
    "collapsed": true
   },
   "outputs": [],
   "source": [
    "def Readability(text):    \n",
    "    cleaned_6_9_words=[[]]    \n",
    "    for k, v in text.items():\n",
    "        values=v\n",
    "        key=k        \n",
    "        split_sentences=tokenizer.tokenize(str(values).replace(\"\\\\n\",\" \"))\n",
    "        tokens=[x.split() for x in split_sentences]\n",
    "        for w in tokens:\n",
    "            cleaned_words = [[''.join(c for c in s if c not in string.punctuation) for s in m] for m in tokens]\n",
    "            cleaned_words = [[s.lower() for s in k if s] for k in cleaned_words]\n",
    "            cleaned_words=[[w for w in k if w.isalpha()] for k in cleaned_words]\n",
    "        words=[a for m in cleaned_words for a in m ]\n",
    "        Total_sentences=len(cleaned_words)\n",
    "        Total_words=len(words)\n",
    "        Total_Syllable=0\n",
    "        for w in words:\n",
    "            Total_Syllable+=syllables(w)\n",
    "        A=(Total_words)/(Total_sentences)\n",
    "        B=(Total_Syllable)/(Total_words)\n",
    "        flesch_kincaid_difficulty=(206.835-(1.015*A)-(84.6*B))\n",
    "        flesch_kincaid_grade_level=(0.39*A)+(11.8*B)-15.59            \n",
    "        with open('data/file_name.txt','a', encoding=\"utf-8\") as f:\n",
    "            print('{} {} {} {}'.format(key, round(flesch_kincaid_difficulty), round(flesch_kincaid_grade_level), '18-80'), file=f) "
   ]
  },
  {
   "cell_type": "code",
   "execution_count": 8,
   "metadata": {
    "collapsed": false
   },
   "outputs": [
    {
     "data": {
      "text/plain": [
       "1"
      ]
     },
     "execution_count": 8,
     "metadata": {},
     "output_type": "execute_result"
    }
   ],
   "source": [
    "Readability(train_6_9) # Returns readability score for each document in the dataset"
   ]
  },
  {
   "cell_type": "code",
   "execution_count": 9,
   "metadata": {
    "collapsed": false
   },
   "outputs": [
    {
     "data": {
      "text/html": [
       "<div>\n",
       "<table border=\"1\" class=\"dataframe\">\n",
       "  <thead>\n",
       "    <tr style=\"text-align: right;\">\n",
       "      <th></th>\n",
       "      <th>Title</th>\n",
       "      <th>Difficulty</th>\n",
       "      <th>Guessed_Grade</th>\n",
       "      <th>Category</th>\n",
       "    </tr>\n",
       "  </thead>\n",
       "  <tbody>\n",
       "    <tr>\n",
       "      <th>0</th>\n",
       "      <td>Ailuropoda_melanoleuca</td>\n",
       "      <td>64</td>\n",
       "      <td>10</td>\n",
       "      <td>18-80</td>\n",
       "    </tr>\n",
       "    <tr>\n",
       "      <th>1</th>\n",
       "      <td>Arizona</td>\n",
       "      <td>58</td>\n",
       "      <td>10</td>\n",
       "      <td>18-80</td>\n",
       "    </tr>\n",
       "    <tr>\n",
       "      <th>2</th>\n",
       "      <td>Arabic_language</td>\n",
       "      <td>46</td>\n",
       "      <td>13</td>\n",
       "      <td>18-80</td>\n",
       "    </tr>\n",
       "    <tr>\n",
       "      <th>3</th>\n",
       "      <td>Andes_Mountains</td>\n",
       "      <td>56</td>\n",
       "      <td>11</td>\n",
       "      <td>18-80</td>\n",
       "    </tr>\n",
       "    <tr>\n",
       "      <th>4</th>\n",
       "      <td>Android</td>\n",
       "      <td>57</td>\n",
       "      <td>8</td>\n",
       "      <td>18-80</td>\n",
       "    </tr>\n",
       "  </tbody>\n",
       "</table>\n",
       "</div>"
      ],
      "text/plain": [
       "                    Title Difficulty  Guessed_Grade Category\n",
       "0  Ailuropoda_melanoleuca         64             10    18-80\n",
       "1                 Arizona         58             10    18-80\n",
       "2         Arabic_language         46             13    18-80\n",
       "3         Andes_Mountains         56             11    18-80\n",
       "4                 Android         57              8    18-80"
      ]
     },
     "execution_count": 9,
     "metadata": {},
     "output_type": "execute_result"
    }
   ],
   "source": [
    "model1=pd.read_csv('data/file_name.txt', names=['Title', 'Difficulty', 'Guessed_Grade', 'Category'], delimiter=' ')\n",
    "model1[:5]"
   ]
  },
  {
   "cell_type": "code",
   "execution_count": 10,
   "metadata": {
    "collapsed": false
   },
   "outputs": [
    {
     "data": {
      "text/html": [
       "<div>\n",
       "<table border=\"1\" class=\"dataframe\">\n",
       "  <thead>\n",
       "    <tr style=\"text-align: right;\">\n",
       "      <th></th>\n",
       "      <th>Title</th>\n",
       "      <th>Difficulty</th>\n",
       "      <th>Guessed_Grade</th>\n",
       "      <th>Category</th>\n",
       "    </tr>\n",
       "  </thead>\n",
       "  <tbody>\n",
       "    <tr>\n",
       "      <th>0</th>\n",
       "      <td>Elephants.pdf</td>\n",
       "      <td>71</td>\n",
       "      <td>7</td>\n",
       "      <td>6-9</td>\n",
       "    </tr>\n",
       "    <tr>\n",
       "      <th>1</th>\n",
       "      <td>grandmas-glasses-FKB-kids-stories.pdf</td>\n",
       "      <td>70</td>\n",
       "      <td>6</td>\n",
       "      <td>6-9</td>\n",
       "    </tr>\n",
       "    <tr>\n",
       "      <th>2</th>\n",
       "      <td>The-story-of-stories-FKB-kids-books.pdf</td>\n",
       "      <td>66</td>\n",
       "      <td>7</td>\n",
       "      <td>6-9</td>\n",
       "    </tr>\n",
       "    <tr>\n",
       "      <th>4</th>\n",
       "      <td>Cats-FKB-Kids-Stories.pdf</td>\n",
       "      <td>70</td>\n",
       "      <td>6</td>\n",
       "      <td>6-9</td>\n",
       "    </tr>\n",
       "    <tr>\n",
       "      <th>5</th>\n",
       "      <td>tanias-slumber-FKB-kids-stories.pdf</td>\n",
       "      <td>79</td>\n",
       "      <td>5</td>\n",
       "      <td>6-9</td>\n",
       "    </tr>\n",
       "  </tbody>\n",
       "</table>\n",
       "</div>"
      ],
      "text/plain": [
       "                                     Title  Difficulty  Guessed_Grade Category\n",
       "0                            Elephants.pdf          71              7      6-9\n",
       "1    grandmas-glasses-FKB-kids-stories.pdf          70              6      6-9\n",
       "2  The-story-of-stories-FKB-kids-books.pdf          66              7      6-9\n",
       "4                Cats-FKB-Kids-Stories.pdf          70              6      6-9\n",
       "5      tanias-slumber-FKB-kids-stories.pdf          79              5      6-9"
      ]
     },
     "execution_count": 10,
     "metadata": {},
     "output_type": "execute_result"
    }
   ],
   "source": [
    "model2=pd.read_csv('data/readability_6_9_train.txt', names=['Title', 'Difficulty', 'Guessed_Grade', 'Category'], delimiter=' ')\n",
    "model2=model2.drop(model2.index[[3]])\n",
    "model2[:5]"
   ]
  },
  {
   "cell_type": "code",
   "execution_count": 11,
   "metadata": {
    "collapsed": true
   },
   "outputs": [],
   "source": [
    "model3=pd.read_csv('data/readability_10_13_train.txt', names=['Title', 'Difficulty', 'Guessed_Grade', 'Category'], delimiter=' ')"
   ]
  },
  {
   "cell_type": "code",
   "execution_count": 12,
   "metadata": {
    "collapsed": false
   },
   "outputs": [
    {
     "data": {
      "text/html": [
       "<div>\n",
       "<table border=\"1\" class=\"dataframe\">\n",
       "  <thead>\n",
       "    <tr style=\"text-align: right;\">\n",
       "      <th></th>\n",
       "      <th>Title</th>\n",
       "      <th>Difficulty</th>\n",
       "      <th>Guessed_Grade</th>\n",
       "      <th>Category</th>\n",
       "    </tr>\n",
       "  </thead>\n",
       "  <tbody>\n",
       "    <tr>\n",
       "      <th>0</th>\n",
       "      <td>the-elephant-bird-FKB-kids-stories.pdf</td>\n",
       "      <td>80</td>\n",
       "      <td>5</td>\n",
       "      <td>14-17</td>\n",
       "    </tr>\n",
       "    <tr>\n",
       "      <th>1</th>\n",
       "      <td>Penguins.pdf</td>\n",
       "      <td>75</td>\n",
       "      <td>5</td>\n",
       "      <td>14-17</td>\n",
       "    </tr>\n",
       "    <tr>\n",
       "      <th>2</th>\n",
       "      <td>Everything-Looks-New.pdf</td>\n",
       "      <td>70</td>\n",
       "      <td>6</td>\n",
       "      <td>14-17</td>\n",
       "    </tr>\n",
       "    <tr>\n",
       "      <th>3</th>\n",
       "      <td>Whales.pdf</td>\n",
       "      <td>72</td>\n",
       "      <td>7</td>\n",
       "      <td>14-17</td>\n",
       "    </tr>\n",
       "    <tr>\n",
       "      <th>4</th>\n",
       "      <td>dive-FKB-kids-stories.pdf</td>\n",
       "      <td>62</td>\n",
       "      <td>7</td>\n",
       "      <td>14-17</td>\n",
       "    </tr>\n",
       "  </tbody>\n",
       "</table>\n",
       "</div>"
      ],
      "text/plain": [
       "                                    Title  Difficulty  Guessed_Grade Category\n",
       "0  the-elephant-bird-FKB-kids-stories.pdf          80              5    14-17\n",
       "1                            Penguins.pdf          75              5    14-17\n",
       "2                Everything-Looks-New.pdf          70              6    14-17\n",
       "3                              Whales.pdf          72              7    14-17\n",
       "4               dive-FKB-kids-stories.pdf          62              7    14-17"
      ]
     },
     "execution_count": 12,
     "metadata": {},
     "output_type": "execute_result"
    }
   ],
   "source": [
    "model4=pd.read_csv('data/readability_14_17_train.txt', names=['Title', 'Difficulty', 'Guessed_Grade', 'Category'], delimiter=' ')\n",
    "model4[:5]"
   ]
  },
  {
   "cell_type": "code",
   "execution_count": 13,
   "metadata": {
    "collapsed": false
   },
   "outputs": [
    {
     "data": {
      "text/html": [
       "<div>\n",
       "<table border=\"1\" class=\"dataframe\">\n",
       "  <thead>\n",
       "    <tr style=\"text-align: right;\">\n",
       "      <th></th>\n",
       "      <th>Title</th>\n",
       "      <th>Difficulty</th>\n",
       "      <th>Guessed_Grade</th>\n",
       "      <th>Category</th>\n",
       "      <th>Expected_Grade</th>\n",
       "    </tr>\n",
       "  </thead>\n",
       "  <tbody>\n",
       "    <tr>\n",
       "      <th>0</th>\n",
       "      <td>Ailuropoda_melanoleuca</td>\n",
       "      <td>64</td>\n",
       "      <td>10</td>\n",
       "      <td>18-80</td>\n",
       "      <td></td>\n",
       "    </tr>\n",
       "    <tr>\n",
       "      <th>1</th>\n",
       "      <td>Arizona</td>\n",
       "      <td>58</td>\n",
       "      <td>10</td>\n",
       "      <td>18-80</td>\n",
       "      <td></td>\n",
       "    </tr>\n",
       "    <tr>\n",
       "      <th>2</th>\n",
       "      <td>Arabic_language</td>\n",
       "      <td>46</td>\n",
       "      <td>13</td>\n",
       "      <td>18-80</td>\n",
       "      <td></td>\n",
       "    </tr>\n",
       "    <tr>\n",
       "      <th>3</th>\n",
       "      <td>Andes_Mountains</td>\n",
       "      <td>56</td>\n",
       "      <td>11</td>\n",
       "      <td>18-80</td>\n",
       "      <td></td>\n",
       "    </tr>\n",
       "    <tr>\n",
       "      <th>4</th>\n",
       "      <td>Android</td>\n",
       "      <td>57</td>\n",
       "      <td>8</td>\n",
       "      <td>18-80</td>\n",
       "      <td></td>\n",
       "    </tr>\n",
       "  </tbody>\n",
       "</table>\n",
       "</div>"
      ],
      "text/plain": [
       "                    Title Difficulty  Guessed_Grade Category Expected_Grade\n",
       "0  Ailuropoda_melanoleuca         64             10    18-80               \n",
       "1                 Arizona         58             10    18-80               \n",
       "2         Arabic_language         46             13    18-80               \n",
       "3         Andes_Mountains         56             11    18-80               \n",
       "4                 Android         57              8    18-80               "
      ]
     },
     "execution_count": 13,
     "metadata": {},
     "output_type": "execute_result"
    }
   ],
   "source": [
    "frames = [model1, model2, model3, model4]\n",
    "model=pd.concat(frames)\n",
    "#model[:5]\n",
    "\n",
    "model = model.reset_index(drop=True)\n",
    "model[\"Expected_Grade\"]=' '\n",
    "model[:5]"
   ]
  },
  {
   "cell_type": "code",
   "execution_count": 14,
   "metadata": {
    "collapsed": false
   },
   "outputs": [
    {
     "name": "stderr",
     "output_type": "stream",
     "text": [
      "/var/anaconda3/lib/python3.5/site-packages/ipykernel/__main__.py:2: SettingWithCopyWarning: \n",
      "A value is trying to be set on a copy of a slice from a DataFrame.\n",
      "Try using .loc[row_indexer,col_indexer] = value instead\n",
      "\n",
      "See the caveats in the documentation: http://pandas.pydata.org/pandas-docs/stable/indexing.html#indexing-view-versus-copy\n",
      "  from ipykernel import kernelapp as app\n"
     ]
    },
    {
     "data": {
      "text/html": [
       "<div>\n",
       "<table border=\"1\" class=\"dataframe\">\n",
       "  <thead>\n",
       "    <tr style=\"text-align: right;\">\n",
       "      <th></th>\n",
       "      <th>Title</th>\n",
       "      <th>Difficulty</th>\n",
       "      <th>Guessed_Grade</th>\n",
       "      <th>Category</th>\n",
       "      <th>Expected_Grade</th>\n",
       "    </tr>\n",
       "  </thead>\n",
       "  <tbody>\n",
       "    <tr>\n",
       "      <th>0</th>\n",
       "      <td>Ailuropoda_melanoleuca</td>\n",
       "      <td>64</td>\n",
       "      <td>10</td>\n",
       "      <td>18-80</td>\n",
       "      <td>12</td>\n",
       "    </tr>\n",
       "    <tr>\n",
       "      <th>1</th>\n",
       "      <td>Arizona</td>\n",
       "      <td>58</td>\n",
       "      <td>10</td>\n",
       "      <td>18-80</td>\n",
       "      <td>12</td>\n",
       "    </tr>\n",
       "    <tr>\n",
       "      <th>2</th>\n",
       "      <td>Arabic_language</td>\n",
       "      <td>46</td>\n",
       "      <td>13</td>\n",
       "      <td>18-80</td>\n",
       "      <td>12</td>\n",
       "    </tr>\n",
       "    <tr>\n",
       "      <th>3</th>\n",
       "      <td>Andes_Mountains</td>\n",
       "      <td>56</td>\n",
       "      <td>11</td>\n",
       "      <td>18-80</td>\n",
       "      <td>12</td>\n",
       "    </tr>\n",
       "    <tr>\n",
       "      <th>4</th>\n",
       "      <td>Android</td>\n",
       "      <td>57</td>\n",
       "      <td>8</td>\n",
       "      <td>18-80</td>\n",
       "      <td>12</td>\n",
       "    </tr>\n",
       "  </tbody>\n",
       "</table>\n",
       "</div>"
      ],
      "text/plain": [
       "                    Title Difficulty  Guessed_Grade Category Expected_Grade\n",
       "0  Ailuropoda_melanoleuca         64             10    18-80             12\n",
       "1                 Arizona         58             10    18-80             12\n",
       "2         Arabic_language         46             13    18-80             12\n",
       "3         Andes_Mountains         56             11    18-80             12\n",
       "4                 Android         57              8    18-80             12"
      ]
     },
     "execution_count": 14,
     "metadata": {},
     "output_type": "execute_result"
    }
   ],
   "source": [
    "df= model[model['Category']=='18-80']\n",
    "df['Expected_Grade']=df['Expected_Grade'].replace([' '], '12')\n",
    "df[:5]"
   ]
  },
  {
   "cell_type": "code",
   "execution_count": 15,
   "metadata": {
    "collapsed": false
   },
   "outputs": [
    {
     "name": "stderr",
     "output_type": "stream",
     "text": [
      "/var/anaconda3/lib/python3.5/site-packages/ipykernel/__main__.py:2: SettingWithCopyWarning: \n",
      "A value is trying to be set on a copy of a slice from a DataFrame.\n",
      "Try using .loc[row_indexer,col_indexer] = value instead\n",
      "\n",
      "See the caveats in the documentation: http://pandas.pydata.org/pandas-docs/stable/indexing.html#indexing-view-versus-copy\n",
      "  from ipykernel import kernelapp as app\n"
     ]
    },
    {
     "data": {
      "text/html": [
       "<div>\n",
       "<table border=\"1\" class=\"dataframe\">\n",
       "  <thead>\n",
       "    <tr style=\"text-align: right;\">\n",
       "      <th></th>\n",
       "      <th>Title</th>\n",
       "      <th>Difficulty</th>\n",
       "      <th>Guessed_Grade</th>\n",
       "      <th>Category</th>\n",
       "      <th>Expected_Grade</th>\n",
       "    </tr>\n",
       "  </thead>\n",
       "  <tbody>\n",
       "    <tr>\n",
       "      <th>24</th>\n",
       "      <td>Elephants.pdf</td>\n",
       "      <td>71</td>\n",
       "      <td>7</td>\n",
       "      <td>6-9</td>\n",
       "      <td>3</td>\n",
       "    </tr>\n",
       "    <tr>\n",
       "      <th>25</th>\n",
       "      <td>grandmas-glasses-FKB-kids-stories.pdf</td>\n",
       "      <td>70</td>\n",
       "      <td>6</td>\n",
       "      <td>6-9</td>\n",
       "      <td>3</td>\n",
       "    </tr>\n",
       "    <tr>\n",
       "      <th>26</th>\n",
       "      <td>The-story-of-stories-FKB-kids-books.pdf</td>\n",
       "      <td>66</td>\n",
       "      <td>7</td>\n",
       "      <td>6-9</td>\n",
       "      <td>3</td>\n",
       "    </tr>\n",
       "    <tr>\n",
       "      <th>27</th>\n",
       "      <td>Cats-FKB-Kids-Stories.pdf</td>\n",
       "      <td>70</td>\n",
       "      <td>6</td>\n",
       "      <td>6-9</td>\n",
       "      <td>3</td>\n",
       "    </tr>\n",
       "    <tr>\n",
       "      <th>28</th>\n",
       "      <td>tanias-slumber-FKB-kids-stories.pdf</td>\n",
       "      <td>79</td>\n",
       "      <td>5</td>\n",
       "      <td>6-9</td>\n",
       "      <td>3</td>\n",
       "    </tr>\n",
       "  </tbody>\n",
       "</table>\n",
       "</div>"
      ],
      "text/plain": [
       "                                      Title Difficulty  Guessed_Grade  \\\n",
       "24                            Elephants.pdf         71              7   \n",
       "25    grandmas-glasses-FKB-kids-stories.pdf         70              6   \n",
       "26  The-story-of-stories-FKB-kids-books.pdf         66              7   \n",
       "27                Cats-FKB-Kids-Stories.pdf         70              6   \n",
       "28      tanias-slumber-FKB-kids-stories.pdf         79              5   \n",
       "\n",
       "   Category Expected_Grade  \n",
       "24      6-9              3  \n",
       "25      6-9              3  \n",
       "26      6-9              3  \n",
       "27      6-9              3  \n",
       "28      6-9              3  "
      ]
     },
     "execution_count": 15,
     "metadata": {},
     "output_type": "execute_result"
    }
   ],
   "source": [
    "df1= model[model['Category']=='6-9']\n",
    "df1['Expected_Grade']=df1['Expected_Grade'].replace([' '], '3')\n",
    "df1[:5]"
   ]
  },
  {
   "cell_type": "code",
   "execution_count": 16,
   "metadata": {
    "collapsed": false
   },
   "outputs": [
    {
     "name": "stderr",
     "output_type": "stream",
     "text": [
      "/var/anaconda3/lib/python3.5/site-packages/ipykernel/__main__.py:2: SettingWithCopyWarning: \n",
      "A value is trying to be set on a copy of a slice from a DataFrame.\n",
      "Try using .loc[row_indexer,col_indexer] = value instead\n",
      "\n",
      "See the caveats in the documentation: http://pandas.pydata.org/pandas-docs/stable/indexing.html#indexing-view-versus-copy\n",
      "  from ipykernel import kernelapp as app\n"
     ]
    },
    {
     "data": {
      "text/html": [
       "<div>\n",
       "<table border=\"1\" class=\"dataframe\">\n",
       "  <thead>\n",
       "    <tr style=\"text-align: right;\">\n",
       "      <th></th>\n",
       "      <th>Title</th>\n",
       "      <th>Difficulty</th>\n",
       "      <th>Guessed_Grade</th>\n",
       "      <th>Category</th>\n",
       "      <th>Expected_Grade</th>\n",
       "    </tr>\n",
       "  </thead>\n",
       "  <tbody>\n",
       "    <tr>\n",
       "      <th>69</th>\n",
       "      <td>The-Blob-The-Frog-The-DOG-and-The-Girl.pdf</td>\n",
       "      <td>88</td>\n",
       "      <td>4</td>\n",
       "      <td>10-13</td>\n",
       "      <td>6</td>\n",
       "    </tr>\n",
       "    <tr>\n",
       "      <th>70</th>\n",
       "      <td>Sugar-the-Robot-and-the-race-to-save-the-Earth...</td>\n",
       "      <td>85</td>\n",
       "      <td>4</td>\n",
       "      <td>10-13</td>\n",
       "      <td>6</td>\n",
       "    </tr>\n",
       "    <tr>\n",
       "      <th>71</th>\n",
       "      <td>Alice-in-Wonderland.pdf</td>\n",
       "      <td>87</td>\n",
       "      <td>6</td>\n",
       "      <td>10-13</td>\n",
       "      <td>6</td>\n",
       "    </tr>\n",
       "    <tr>\n",
       "      <th>72</th>\n",
       "      <td>gifted1.pdf</td>\n",
       "      <td>91</td>\n",
       "      <td>3</td>\n",
       "      <td>10-13</td>\n",
       "      <td>6</td>\n",
       "    </tr>\n",
       "    <tr>\n",
       "      <th>73</th>\n",
       "      <td>Beekle-Henry.pdf</td>\n",
       "      <td>74</td>\n",
       "      <td>7</td>\n",
       "      <td>10-13</td>\n",
       "      <td>6</td>\n",
       "    </tr>\n",
       "  </tbody>\n",
       "</table>\n",
       "</div>"
      ],
      "text/plain": [
       "                                                Title Difficulty  \\\n",
       "69         The-Blob-The-Frog-The-DOG-and-The-Girl.pdf         88   \n",
       "70  Sugar-the-Robot-and-the-race-to-save-the-Earth...         85   \n",
       "71                            Alice-in-Wonderland.pdf         87   \n",
       "72                                        gifted1.pdf         91   \n",
       "73                                   Beekle-Henry.pdf         74   \n",
       "\n",
       "    Guessed_Grade Category Expected_Grade  \n",
       "69              4    10-13              6  \n",
       "70              4    10-13              6  \n",
       "71              6    10-13              6  \n",
       "72              3    10-13              6  \n",
       "73              7    10-13              6  "
      ]
     },
     "execution_count": 16,
     "metadata": {},
     "output_type": "execute_result"
    }
   ],
   "source": [
    "df2= model[model['Category']=='10-13']\n",
    "df2['Expected_Grade']=df2['Expected_Grade'].replace([' '], '6')\n",
    "df2[:5]"
   ]
  },
  {
   "cell_type": "code",
   "execution_count": 17,
   "metadata": {
    "collapsed": false
   },
   "outputs": [
    {
     "name": "stderr",
     "output_type": "stream",
     "text": [
      "/var/anaconda3/lib/python3.5/site-packages/ipykernel/__main__.py:2: SettingWithCopyWarning: \n",
      "A value is trying to be set on a copy of a slice from a DataFrame.\n",
      "Try using .loc[row_indexer,col_indexer] = value instead\n",
      "\n",
      "See the caveats in the documentation: http://pandas.pydata.org/pandas-docs/stable/indexing.html#indexing-view-versus-copy\n",
      "  from ipykernel import kernelapp as app\n"
     ]
    },
    {
     "data": {
      "text/html": [
       "<div>\n",
       "<table border=\"1\" class=\"dataframe\">\n",
       "  <thead>\n",
       "    <tr style=\"text-align: right;\">\n",
       "      <th></th>\n",
       "      <th>Title</th>\n",
       "      <th>Difficulty</th>\n",
       "      <th>Guessed_Grade</th>\n",
       "      <th>Category</th>\n",
       "      <th>Expected_Grade</th>\n",
       "    </tr>\n",
       "  </thead>\n",
       "  <tbody>\n",
       "    <tr>\n",
       "      <th>94</th>\n",
       "      <td>the-elephant-bird-FKB-kids-stories.pdf</td>\n",
       "      <td>80</td>\n",
       "      <td>5</td>\n",
       "      <td>14-17</td>\n",
       "      <td>11</td>\n",
       "    </tr>\n",
       "    <tr>\n",
       "      <th>95</th>\n",
       "      <td>Penguins.pdf</td>\n",
       "      <td>75</td>\n",
       "      <td>5</td>\n",
       "      <td>14-17</td>\n",
       "      <td>11</td>\n",
       "    </tr>\n",
       "    <tr>\n",
       "      <th>96</th>\n",
       "      <td>Everything-Looks-New.pdf</td>\n",
       "      <td>70</td>\n",
       "      <td>6</td>\n",
       "      <td>14-17</td>\n",
       "      <td>11</td>\n",
       "    </tr>\n",
       "    <tr>\n",
       "      <th>97</th>\n",
       "      <td>Whales.pdf</td>\n",
       "      <td>72</td>\n",
       "      <td>7</td>\n",
       "      <td>14-17</td>\n",
       "      <td>11</td>\n",
       "    </tr>\n",
       "    <tr>\n",
       "      <th>98</th>\n",
       "      <td>dive-FKB-kids-stories.pdf</td>\n",
       "      <td>62</td>\n",
       "      <td>7</td>\n",
       "      <td>14-17</td>\n",
       "      <td>11</td>\n",
       "    </tr>\n",
       "  </tbody>\n",
       "</table>\n",
       "</div>"
      ],
      "text/plain": [
       "                                     Title Difficulty  Guessed_Grade Category  \\\n",
       "94  the-elephant-bird-FKB-kids-stories.pdf         80              5    14-17   \n",
       "95                            Penguins.pdf         75              5    14-17   \n",
       "96                Everything-Looks-New.pdf         70              6    14-17   \n",
       "97                              Whales.pdf         72              7    14-17   \n",
       "98               dive-FKB-kids-stories.pdf         62              7    14-17   \n",
       "\n",
       "   Expected_Grade  \n",
       "94             11  \n",
       "95             11  \n",
       "96             11  \n",
       "97             11  \n",
       "98             11  "
      ]
     },
     "execution_count": 17,
     "metadata": {},
     "output_type": "execute_result"
    }
   ],
   "source": [
    "df3= model[model['Category']=='14-17']\n",
    "df3['Expected_Grade']=df3['Expected_Grade'].replace([' '], '11')\n",
    "df3[:5]"
   ]
  },
  {
   "cell_type": "code",
   "execution_count": 18,
   "metadata": {
    "collapsed": false
   },
   "outputs": [
    {
     "data": {
      "text/html": [
       "<div>\n",
       "<table border=\"1\" class=\"dataframe\">\n",
       "  <thead>\n",
       "    <tr style=\"text-align: right;\">\n",
       "      <th></th>\n",
       "      <th>Title</th>\n",
       "      <th>Difficulty</th>\n",
       "      <th>Guessed_Grade</th>\n",
       "      <th>Category</th>\n",
       "      <th>Expected_Grade</th>\n",
       "    </tr>\n",
       "  </thead>\n",
       "  <tbody>\n",
       "    <tr>\n",
       "      <th>0</th>\n",
       "      <td>Ailuropoda_melanoleuca</td>\n",
       "      <td>64</td>\n",
       "      <td>10</td>\n",
       "      <td>18-80</td>\n",
       "      <td>12</td>\n",
       "    </tr>\n",
       "    <tr>\n",
       "      <th>1</th>\n",
       "      <td>Arizona</td>\n",
       "      <td>58</td>\n",
       "      <td>10</td>\n",
       "      <td>18-80</td>\n",
       "      <td>12</td>\n",
       "    </tr>\n",
       "    <tr>\n",
       "      <th>2</th>\n",
       "      <td>Arabic_language</td>\n",
       "      <td>46</td>\n",
       "      <td>13</td>\n",
       "      <td>18-80</td>\n",
       "      <td>12</td>\n",
       "    </tr>\n",
       "    <tr>\n",
       "      <th>3</th>\n",
       "      <td>Andes_Mountains</td>\n",
       "      <td>56</td>\n",
       "      <td>11</td>\n",
       "      <td>18-80</td>\n",
       "      <td>12</td>\n",
       "    </tr>\n",
       "    <tr>\n",
       "      <th>4</th>\n",
       "      <td>Android</td>\n",
       "      <td>57</td>\n",
       "      <td>8</td>\n",
       "      <td>18-80</td>\n",
       "      <td>12</td>\n",
       "    </tr>\n",
       "  </tbody>\n",
       "</table>\n",
       "</div>"
      ],
      "text/plain": [
       "                    Title Difficulty  Guessed_Grade Category Expected_Grade\n",
       "0  Ailuropoda_melanoleuca         64             10    18-80             12\n",
       "1                 Arizona         58             10    18-80             12\n",
       "2         Arabic_language         46             13    18-80             12\n",
       "3         Andes_Mountains         56             11    18-80             12\n",
       "4                 Android         57              8    18-80             12"
      ]
     },
     "execution_count": 18,
     "metadata": {},
     "output_type": "execute_result"
    }
   ],
   "source": [
    "final_model=pd.concat([df, df1, df2, df3])\n",
    "final_model = final_model.reset_index(drop=True)\n",
    "final_model[:5]"
   ]
  },
  {
   "cell_type": "code",
   "execution_count": 19,
   "metadata": {
    "collapsed": true
   },
   "outputs": [],
   "source": [
    "final_model=final_model[final_model['Guessed_Grade'] != 47]\n",
    "final_model=final_model[final_model['Guessed_Grade'] != 21]"
   ]
  },
  {
   "cell_type": "code",
   "execution_count": 20,
   "metadata": {
    "collapsed": true
   },
   "outputs": [],
   "source": [
    "final_model['Guessed_Grade']=final_model['Guessed_Grade'].replace([1], 'one')\n",
    "final_model['Guessed_Grade']=final_model['Guessed_Grade'].replace([2], 'two')\n",
    "final_model['Guessed_Grade']=final_model['Guessed_Grade'].replace([3], 'three')\n",
    "final_model['Guessed_Grade']=final_model['Guessed_Grade'].replace([4], 'four')\n",
    "final_model['Guessed_Grade']=final_model['Guessed_Grade'].replace([5], 'five')\n",
    "final_model['Guessed_Grade']=final_model['Guessed_Grade'].replace([6], 'six')\n",
    "final_model['Guessed_Grade']=final_model['Guessed_Grade'].replace([7], 'seven')\n",
    "final_model['Guessed_Grade']=final_model['Guessed_Grade'].replace([8], 'eight')\n",
    "final_model['Guessed_Grade']=final_model['Guessed_Grade'].replace([9], 'nine')\n",
    "final_model['Guessed_Grade']=final_model['Guessed_Grade'].replace([10], 'ten')\n",
    "final_model['Guessed_Grade']=final_model['Guessed_Grade'].replace([11], 'eleven')\n",
    "final_model['Guessed_Grade']=final_model['Guessed_Grade'].replace([12], 'twelve')\n",
    "final_model['Guessed_Grade']=final_model['Guessed_Grade'].replace([13], 'thirteen')\n",
    "final_model['Guessed_Grade']=final_model['Guessed_Grade'].replace([14], 'fourteen')"
   ]
  },
  {
   "cell_type": "code",
   "execution_count": 21,
   "metadata": {
    "collapsed": true
   },
   "outputs": [],
   "source": [
    "final_model['Expected_Grade']=final_model['Expected_Grade'].replace(['1'], 'one')\n",
    "final_model['Expected_Grade']=final_model['Expected_Grade'].replace(['2'], 'two')\n",
    "final_model['Expected_Grade']=final_model['Expected_Grade'].replace(['3'], 'three')\n",
    "final_model['Expected_Grade']=final_model['Expected_Grade'].replace(['4'], 'four')\n",
    "final_model['Expected_Grade']=final_model['Expected_Grade'].replace(['5'], 'five')\n",
    "final_model['Expected_Grade']=final_model['Expected_Grade'].replace(['6'], 'six')\n",
    "final_model['Expected_Grade']=final_model['Expected_Grade'].replace(['7'], 'seven')\n",
    "final_model['Expected_Grade']=final_model['Expected_Grade'].replace(['8'], 'eight')\n",
    "final_model['Expected_Grade']=final_model['Expected_Grade'].replace(['9'], 'nine')\n",
    "final_model['Expected_Grade']=final_model['Expected_Grade'].replace(['10'], 'ten')\n",
    "final_model['Expected_Grade']=final_model['Expected_Grade'].replace(['11'], 'eleven')\n",
    "final_model['Expected_Grade']=final_model['Expected_Grade'].replace(['12'], 'twelve')\n",
    "final_model['Expected_Grade']=final_model['Expected_Grade'].replace(['13'], 'thirteen')\n",
    "final_model['Expected_Grade']=final_model['Expected_Grade'].replace(['14'], 'fourteen')"
   ]
  },
  {
   "cell_type": "code",
   "execution_count": 22,
   "metadata": {
    "collapsed": true
   },
   "outputs": [],
   "source": [
    "gold=[a for a in final_model.Expected_Grade]\n",
    "test=[a for a in final_model.Guessed_Grade]"
   ]
  },
  {
   "cell_type": "code",
   "execution_count": 23,
   "metadata": {
    "collapsed": false
   },
   "outputs": [
    {
     "name": "stdout",
     "output_type": "stream",
     "text": [
      "         |                                                                     t |\n",
      "         |                                                                     h |\n",
      "         |      e                    t                                         i |\n",
      "         |      l      t             w      e                    s             r |\n",
      "         |      e      h             e      i      f      f      e             t |\n",
      "         |      v      r      s      l      g      i      o      v      t      e |\n",
      "         |      e      e      i      v      h      v      u      e      e      e |\n",
      "         |      n      e      x      e      t      e      r      n      n      n |\n",
      "---------+-----------------------------------------------------------------------+\n",
      "  eleven |     <.>  3.7%   8.1%      .      .   8.8%   3.7%   6.6%   0.7%      . |\n",
      "   three |      .  <3.7%>  8.1%      .      .   8.8%   3.7%   6.6%   0.7%      . |\n",
      "     six |      .   2.2%  <2.9%>     .      .   6.6%   5.1%   1.5%      .      . |\n",
      "  twelve |   6.6%      .      .  <3.7%>  0.7%      .   0.7%   0.7%   2.9%   1.5% |\n",
      "   eight |      .      .      .      .     <.>     .      .      .      .      . |\n",
      "    five |      .      .      .      .      .     <.>     .      .      .      . |\n",
      "    four |      .      .      .      .      .      .     <.>     .      .      . |\n",
      "   seven |      .      .      .      .      .      .      .     <.>     .      . |\n",
      "     ten |      .      .      .      .      .      .      .      .     <.>     . |\n",
      "thirteen |      .      .      .      .      .      .      .      .      .     <.>|\n",
      "---------+-----------------------------------------------------------------------+\n",
      "(row = reference; col = test)\n",
      "\n"
     ]
    }
   ],
   "source": [
    "cm = nltk.ConfusionMatrix(gold, test)\n",
    "print(cm.pretty_format(sort_by_count=True, show_percents=True, truncate=10))"
   ]
  },
  {
   "cell_type": "code",
   "execution_count": 24,
   "metadata": {
    "collapsed": false
   },
   "outputs": [],
   "source": [
    "truth=list(final_model.Expected_Grade==final_model.Guessed_Grade)"
   ]
  },
  {
   "cell_type": "code",
   "execution_count": 25,
   "metadata": {
    "collapsed": false
   },
   "outputs": [],
   "source": [
    "Accuracy=np.sum(truth)/len(final_model)"
   ]
  },
  {
   "cell_type": "code",
   "execution_count": 26,
   "metadata": {
    "collapsed": true
   },
   "outputs": [],
   "source": [
    "#Function for splitting a document into senrences\n",
    "\n",
    "def Sentences(text):    \n",
    "    cleaned_words=[[]] #given the sentences, put the words in a multidimensional array    \n",
    "    for k, v in text.items(): #iterating over a dictonary\n",
    "        values=v\n",
    "        key=k        \n",
    "        for kk in key: #for each key, access the values \"which are sentences in this case\"\n",
    "            split_sentences=tokenizer.tokenize(str(values).replace(\"\\\\n\",\" \")) #use nltk sentence tokenizer to split into sentences\n",
    "        tokens=[x.split() for x in split_sentences] #get the unique words in each sentence\n",
    "        cleaned_words = [[''.join(c for c in s if c not in string.punctuation) for s in m] for m in tokens] #remove punctuations\n",
    "        cleaned_words = [[s.lower() for s in k if s] for k in cleaned_words] #lowercase the words\n",
    "        cleaned_words=[[w for w in k if w.isalpha()] for k in cleaned_words] #ignore non-aplhabets      \n",
    "        Total_sentences=[' '.join(c for c in s ) for s in cleaned_words]  #join them back to be words, so they don't appear as list items      \n",
    "        for s in Total_sentences: #for each sentence identified with the key, write to the respective file\n",
    "            with open('data/Sentences_'+key+'_.txt', 'a') as f: #i identified the files with the key\n",
    "                print(s, file=f)"
   ]
  },
  {
   "cell_type": "code",
   "execution_count": 27,
   "metadata": {
    "collapsed": true
   },
   "outputs": [],
   "source": [
    "#This function returns information about the document, such as the total sentences, average sentence length, average word length, vocab etc\n",
    "\n",
    "def Information(text):    \n",
    "    cleaned_words=[[]] #given the sentences, put the words in a multidimensional array    \n",
    "    all_data=text.values()    \n",
    "    split_sentences=tokenizer.tokenize(str(all_data).replace(\"\\\\n\",\" \")) #use nltk sentence tokenizer to split into sentences\n",
    "    tokens=[x.split() for x in split_sentences] #get the unique words in each sentence\n",
    "    cleaned_words = [[''.join(c for c in s if c not in string.punctuation) for s in m] for m in tokens] #remove punctuations\n",
    "    cleaned_words = [[s.lower() for s in k if s] for k in cleaned_words] #lowercase the words\n",
    "    cleaned_words=[[w for w in k if w.isalpha()] for k in cleaned_words] #ignore non-aplhabets\n",
    "    words=[a for m in cleaned_words for a in m ]\n",
    "    Total_sentences=[' '.join(c for c in s ) for s in cleaned_words]  #join them back to be words, so they don't appear as list items      \n",
    "    sent_lengths=list([len(s.split()) for s in Total_sentences])\n",
    "    word_lengths=list([len(s) for s in words])\n",
    "    word_length=len(words)\n",
    "    vocab=len(set(words))\n",
    "    Sentence_length=len(Total_sentences)\n",
    "    Avg_sent_length=sum(sent_lengths) / float(len(sent_lengths))\n",
    "    Avg_word_length=sum(word_lengths) / float(len(word_lengths))\n",
    "    with open('data/Train_Sent_Info/Info', 'a') as f: #i identified the files with the key\n",
    "        #print('{} {} {} {} {} {}'.format('S_L','W_L', 'V', 'Awl', 'Asl', 'Grade'), file=f)  \n",
    "        print('{} {} {} {} {} {}'.format(Sentence_length, word_length, vocab, round(Avg_word_length), round(Avg_sent_length), '18-80'), file=f)       "
   ]
  },
  {
   "cell_type": "code",
   "execution_count": 28,
   "metadata": {
    "collapsed": true
   },
   "outputs": [],
   "source": [
    "Information(train_6_9)"
   ]
  },
  {
   "cell_type": "code",
   "execution_count": 35,
   "metadata": {
    "collapsed": false
   },
   "outputs": [
    {
     "data": {
      "text/html": [
       "<div>\n",
       "<table border=\"1\" class=\"dataframe\">\n",
       "  <thead>\n",
       "    <tr style=\"text-align: right;\">\n",
       "      <th></th>\n",
       "      <th>Sentence_Lengths</th>\n",
       "      <th>Word_Lengths</th>\n",
       "      <th>Vocabulary</th>\n",
       "      <th>Average_word_length</th>\n",
       "      <th>Average_sentence_length</th>\n",
       "      <th>Age</th>\n",
       "    </tr>\n",
       "  </thead>\n",
       "  <tbody>\n",
       "    <tr>\n",
       "      <th>0</th>\n",
       "      <td>8213</td>\n",
       "      <td>96839</td>\n",
       "      <td>7962</td>\n",
       "      <td>5</td>\n",
       "      <td>12</td>\n",
       "      <td>6-9</td>\n",
       "    </tr>\n",
       "    <tr>\n",
       "      <th>1</th>\n",
       "      <td>36799</td>\n",
       "      <td>476374</td>\n",
       "      <td>18450</td>\n",
       "      <td>4</td>\n",
       "      <td>13</td>\n",
       "      <td>10-13</td>\n",
       "    </tr>\n",
       "    <tr>\n",
       "      <th>2</th>\n",
       "      <td>51350</td>\n",
       "      <td>637776</td>\n",
       "      <td>22814</td>\n",
       "      <td>4</td>\n",
       "      <td>12</td>\n",
       "      <td>14-17</td>\n",
       "    </tr>\n",
       "    <tr>\n",
       "      <th>3</th>\n",
       "      <td>5686</td>\n",
       "      <td>124511</td>\n",
       "      <td>14728</td>\n",
       "      <td>5</td>\n",
       "      <td>22</td>\n",
       "      <td>18-80</td>\n",
       "    </tr>\n",
       "  </tbody>\n",
       "</table>\n",
       "</div>"
      ],
      "text/plain": [
       "   Sentence_Lengths  Word_Lengths  Vocabulary  Average_word_length  \\\n",
       "0              8213         96839        7962                    5   \n",
       "1             36799        476374       18450                    4   \n",
       "2             51350        637776       22814                    4   \n",
       "3              5686        124511       14728                    5   \n",
       "\n",
       "   Average_sentence_length    Age  \n",
       "0                       12    6-9  \n",
       "1                       13  10-13  \n",
       "2                       12  14-17  \n",
       "3                       22  18-80  "
      ]
     },
     "execution_count": 35,
     "metadata": {},
     "output_type": "execute_result"
    }
   ],
   "source": [
    "statistics=pd.read_csv('data/Train_Sent_Info/Info', delimiter=' ')\n",
    "statistics"
   ]
  },
  {
   "cell_type": "code",
   "execution_count": 36,
   "metadata": {
    "collapsed": false
   },
   "outputs": [
    {
     "data": {
      "image/png": "[encoded data removed]",
      "text/plain": [
       "<matplotlib.figure.Figure at 0x7f6a3fa9ca20>"
      ]
     },
     "metadata": {},
     "output_type": "display_data"
    }
   ],
   "source": [
    "import matplotlib.pyplot as plt\n",
    " \n",
    "# Data to plot\n",
    "labels = [f for f in statistics.Age]\n",
    "sizes = [f for f in statistics.Average_sentence_length]\n",
    "colors = ['gold', 'yellowgreen', 'lightcoral', 'lightskyblue']\n",
    "# explode 1st slice\n",
    " \n",
    "# Plot\n",
    "plt.pie(sizes,  labels=labels, colors=colors,\n",
    "        autopct='%1.1f%%', shadow=True, startangle=140)\n",
    " \n",
    "plt.axis('equal')\n",
    "plt.show()"
   ]
  },
  {
   "cell_type": "code",
   "execution_count": 37,
   "metadata": {
    "collapsed": false
   },
   "outputs": [
    {
     "data": {
      "image/png": "[encoded data removed]",
      "text/plain": [
       "<matplotlib.figure.Figure at 0x7f6a447559e8>"
      ]
     },
     "metadata": {},
     "output_type": "display_data"
    }
   ],
   "source": [
    "import matplotlib.pyplot as plt\n",
    " \n",
    "# Data to plot\n",
    "labels = [f for f in statistics.Age]\n",
    "sizes = [f for f in statistics.Vocabulary]\n",
    "colors = ['gold', 'yellowgreen', 'lightcoral', 'lightskyblue']\n",
    "# explode 1st slice\n",
    " \n",
    "# Plot\n",
    "plt.pie(sizes,  labels=labels, colors=colors,\n",
    "        autopct='%1.1f%%', shadow=True, startangle=140)\n",
    " \n",
    "plt.axis('equal')\n",
    "plt.show()"
   ]
  },
  {
   "cell_type": "code",
   "execution_count": 38,
   "metadata": {
    "collapsed": false
   },
   "outputs": [
    {
     "data": {
      "image/png": "[encoded data removed]",
      "text/plain": [
       "<matplotlib.figure.Figure at 0x7f6a444465c0>"
      ]
     },
     "metadata": {},
     "output_type": "display_data"
    }
   ],
   "source": [
    "import matplotlib.pyplot as plt\n",
    " \n",
    "# Data to plot\n",
    "labels = [f for f in statistics.Age]\n",
    "sizes = [f for f in statistics.Sentence_Lengths]\n",
    "colors = ['gold', 'yellowgreen', 'lightcoral', 'lightskyblue']\n",
    "# explode 1st slice\n",
    " \n",
    "# Plot\n",
    "plt.pie(sizes,  labels=labels, colors=colors,\n",
    "        autopct='%1.1f%%', shadow=True, startangle=140)\n",
    " \n",
    "plt.axis('equal')\n",
    "plt.show()"
   ]
  },
  {
   "cell_type": "code",
   "execution_count": 39,
   "metadata": {
    "collapsed": false
   },
   "outputs": [
    {
     "data": {
      "image/png": "[encoded data removed]",
      "text/plain": [
       "<matplotlib.figure.Figure at 0x7f6a3fb3d080>"
      ]
     },
     "metadata": {},
     "output_type": "display_data"
    }
   ],
   "source": [
    "import matplotlib.pyplot as plt\n",
    " \n",
    "# Data to plot\n",
    "labels = [f for f in statistics.Age]\n",
    "sizes = [f for f in statistics.Word_Lengths]\n",
    "colors = ['gold', 'yellowgreen', 'lightcoral', 'lightskyblue']\n",
    "# explode 1st slice\n",
    " \n",
    "# Plot\n",
    "plt.pie(sizes,  labels=labels, colors=colors,\n",
    "        autopct='%1.1f%%', shadow=True, startangle=140)\n",
    " \n",
    "plt.axis('equal')\n",
    "plt.show()"
   ]
  },
  {
   "cell_type": "code",
   "execution_count": 40,
   "metadata": {
    "collapsed": false
   },
   "outputs": [
    {
     "data": {
      "text/plain": [
       "0      6-9\n",
       "1    10-13\n",
       "2    14-17\n",
       "3    18-80\n",
       "Name: Age, dtype: object"
      ]
     },
     "execution_count": 40,
     "metadata": {},
     "output_type": "execute_result"
    }
   ],
   "source": [
    "statistics.Age"
   ]
  },
  {
   "cell_type": "code",
   "execution_count": 41,
   "metadata": {
    "collapsed": true
   },
   "outputs": [],
   "source": [
    "six_9=pd.read_csv('data/word_set/vocab_6_9_2.txt', names=['six_nine'])\n",
    "ten_13=pd.read_csv('data/word_set/vocab_10_13.txt', names=['ten_thirteen'])\n",
    "fourteen_17=pd.read_csv('data/word_set/vocab_14_17_2.txt', names=['fourteen_seventeen'])\n",
    "eighteen_80=pd.read_csv('data/word_set/vocab_18_80.txt', names=['eighteen_eighty'])"
   ]
  },
  {
   "cell_type": "code",
   "execution_count": 42,
   "metadata": {
    "collapsed": true
   },
   "outputs": [],
   "source": [
    "frames = [six_9,ten_13,fourteen_17, eighteen_80]\n",
    "\n",
    "result = pd.concat(frames)"
   ]
  },
  {
   "cell_type": "code",
   "execution_count": 43,
   "metadata": {
    "collapsed": true
   },
   "outputs": [],
   "source": [
    "t_w= [w for w in six_9.six_nine]+ [w for w in ten_13.ten_thirteen]+[w for w in fourteen_17.fourteen_seventeen]+ [w for w in eighteen_80.eighteen_eighty]"
   ]
  },
  {
   "cell_type": "code",
   "execution_count": 44,
   "metadata": {
    "collapsed": true
   },
   "outputs": [],
   "source": [
    "words_6_9=[w for w in six_9.six_nine]\n",
    "words_10_13=[w for w in ten_13.ten_thirteen]\n",
    "words_14_17=[w for w in fourteen_17.fourteen_seventeen]\n",
    "words_18_80=[w for w in eighteen_80.eighteen_eighty]"
   ]
  },
  {
   "cell_type": "code",
   "execution_count": 45,
   "metadata": {
    "collapsed": false
   },
   "outputs": [
    {
     "name": "stdout",
     "output_type": "stream",
     "text": [
      "5654 0.27719762710202484\n"
     ]
    }
   ],
   "source": [
    "count=0\n",
    "overlap_6_9_and_10_13 =0\n",
    "percent_overlap_6_13=0.0\n",
    "for w in words_10_13:\n",
    "    if w in words_6_9:\n",
    "        count=1        \n",
    "    else:\n",
    "        count=0\n",
    "    overlap_6_9_and_10_13+=count\n",
    "    percent_overlap_6_13=overlap_6_9_and_10_13/len(list(set(words_6_9+words_10_13)))\n",
    "print(overlap_6_9_and_10_13, percent_overlap_6_13) "
   ]
  },
  {
   "cell_type": "code",
   "execution_count": 46,
   "metadata": {
    "collapsed": false
   },
   "outputs": [
    {
     "name": "stdout",
     "output_type": "stream",
     "text": [
      "5282 0.21074050430896904\n"
     ]
    }
   ],
   "source": [
    "count=0\n",
    "overlap_6_9_and_14_17 =0\n",
    "percent_overlap_6_17=0.0\n",
    "for w in words_6_9:\n",
    "    if w in words_14_17:\n",
    "        count=1        \n",
    "    else:\n",
    "        count=0\n",
    "    overlap_6_9_and_14_17+=count\n",
    "    percent_overlap_6_17=overlap_6_9_and_14_17/len(list(set(words_6_9+words_14_17)))\n",
    "print(overlap_6_9_and_14_17, percent_overlap_6_17) "
   ]
  },
  {
   "cell_type": "code",
   "execution_count": 47,
   "metadata": {
    "collapsed": false
   },
   "outputs": [
    {
     "name": "stdout",
     "output_type": "stream",
     "text": [
      "6105 0.22550975177304963\n"
     ]
    }
   ],
   "source": [
    "count=0\n",
    "overlap_10_13_and_18_80 =0\n",
    "percent_overlap_10_80=0.0\n",
    "for w in words_10_13:\n",
    "    if w in words_18_80:\n",
    "        count=1        \n",
    "    else:\n",
    "        count=0\n",
    "    overlap_10_13_and_18_80+=count\n",
    "    percent_overlap_10_80=overlap_10_13_and_18_80/len(list(set(words_10_13+words_18_80)))\n",
    "print(overlap_10_13_and_18_80, percent_overlap_10_80) "
   ]
  },
  {
   "cell_type": "code",
   "execution_count": 48,
   "metadata": {
    "collapsed": false
   },
   "outputs": [
    {
     "name": "stdout",
     "output_type": "stream",
     "text": [
      "13859 0.20683347966052093\n"
     ]
    }
   ],
   "source": [
    "count2=0\n",
    "percent_overlap_10_17=0.0\n",
    "overlap_10_13_and_14_17 =0\n",
    "for w in words_10_13:\n",
    "    if w in words_14_17:\n",
    "        count2=1        \n",
    "    else:\n",
    "        count2=0\n",
    "    overlap_10_13_and_14_17+=count2\n",
    "    percent_overlap_10_17=overlap_6_9_and_10_13/len(list(set(words_10_13+words_14_17)))\n",
    "print(overlap_10_13_and_14_17, percent_overlap_10_17) "
   ]
  },
  {
   "cell_type": "code",
   "execution_count": 49,
   "metadata": {
    "collapsed": false
   },
   "outputs": [
    {
     "name": "stdout",
     "output_type": "stream",
     "text": [
      "7020 0.23052673059240772\n"
     ]
    }
   ],
   "source": [
    "count3=0\n",
    "percent_overlap_14_80=0.0\n",
    "overlap_14_17_and_18_80 =0\n",
    "for w in words_14_17:\n",
    "    if w in words_18_80:\n",
    "        count3=1        \n",
    "    else:\n",
    "        count3=0\n",
    "    overlap_14_17_and_18_80+=count3\n",
    "    percent_overlap_14_80=overlap_14_17_and_18_80/len(list(set(words_14_17+words_18_80)))\n",
    "print(overlap_14_17_and_18_80, percent_overlap_14_80) "
   ]
  },
  {
   "cell_type": "code",
   "execution_count": 50,
   "metadata": {
    "collapsed": false
   },
   "outputs": [
    {
     "name": "stdout",
     "output_type": "stream",
     "text": [
      "3594\n"
     ]
    }
   ],
   "source": [
    "count4=0\n",
    "percent_overlap_6_80=0.0\n",
    "overlap_6_9_and_18_80 =0\n",
    "for w in words_18_80:\n",
    "    if w in words_6_9:\n",
    "        count4=1        \n",
    "    else:\n",
    "        count4=0\n",
    "    overlap_6_9_and_18_80+=count4\n",
    "    percent_overlap_6_80=overlap_6_9_and_18_80/len(list(set(words_6_9+words_18_80)))\n",
    "print(overlap_6_9_and_18_80)"
   ]
  },
  {
   "cell_type": "code",
   "execution_count": 51,
   "metadata": {
    "collapsed": false
   },
   "outputs": [
    {
     "data": {
      "text/html": [
       "<div>\n",
       "<table border=\"1\" class=\"dataframe\">\n",
       "  <thead>\n",
       "    <tr style=\"text-align: right;\">\n",
       "      <th></th>\n",
       "      <th>Ages_(years)</th>\n",
       "      <th>compared_with_(years)</th>\n",
       "      <th>overlapped_words</th>\n",
       "      <th>Percentage_overlap_(%)</th>\n",
       "    </tr>\n",
       "  </thead>\n",
       "  <tbody>\n",
       "    <tr>\n",
       "      <th>0</th>\n",
       "      <td>6-9</td>\n",
       "      <td>10-13</td>\n",
       "      <td>5654.0</td>\n",
       "      <td>0.28</td>\n",
       "    </tr>\n",
       "    <tr>\n",
       "      <th>1</th>\n",
       "      <td>6-9</td>\n",
       "      <td>14-17</td>\n",
       "      <td>5282.0</td>\n",
       "      <td>0.21</td>\n",
       "    </tr>\n",
       "    <tr>\n",
       "      <th>2</th>\n",
       "      <td>6-9</td>\n",
       "      <td>18-80</td>\n",
       "      <td>3594.0</td>\n",
       "      <td>0.19</td>\n",
       "    </tr>\n",
       "    <tr>\n",
       "      <th>3</th>\n",
       "      <td>10-13</td>\n",
       "      <td>14-17</td>\n",
       "      <td>13859.0</td>\n",
       "      <td>0.21</td>\n",
       "    </tr>\n",
       "    <tr>\n",
       "      <th>4</th>\n",
       "      <td>10-13</td>\n",
       "      <td>18-80</td>\n",
       "      <td>6105.0</td>\n",
       "      <td>0.23</td>\n",
       "    </tr>\n",
       "    <tr>\n",
       "      <th>5</th>\n",
       "      <td>14-17</td>\n",
       "      <td>18-80</td>\n",
       "      <td>7020.0</td>\n",
       "      <td>0.23</td>\n",
       "    </tr>\n",
       "  </tbody>\n",
       "</table>\n",
       "</div>"
      ],
      "text/plain": [
       "  Ages_(years) compared_with_(years)  overlapped_words  Percentage_overlap_(%)\n",
       "0          6-9                 10-13            5654.0                    0.28\n",
       "1          6-9                 14-17            5282.0                    0.21\n",
       "2          6-9                 18-80            3594.0                    0.19\n",
       "3        10-13                 14-17           13859.0                    0.21\n",
       "4        10-13                 18-80            6105.0                    0.23\n",
       "5        14-17                 18-80            7020.0                    0.23"
      ]
     },
     "execution_count": 51,
     "metadata": {},
     "output_type": "execute_result"
    }
   ],
   "source": [
    "mf = pd.DataFrame(columns=('Ages_(years)','compared_with_(years)', 'overlapped_words', 'Percentage_overlap_(%)'))\n",
    "mf.loc[0]=['6-9','10-13', int(overlap_6_9_and_10_13), round(percent_overlap_6_13,2)]\n",
    "mf.loc[1]=['6-9','14-17', int(round(overlap_6_9_and_14_17)), round(percent_overlap_6_17,2)]\n",
    "mf.loc[2]=['6-9','18-80', int(round(overlap_6_9_and_18_80)), round(percent_overlap_6_80,2)]\n",
    "mf.loc[3]=['10-13','14-17', int(round(overlap_10_13_and_14_17)), round(percent_overlap_10_17,2)]\n",
    "mf.loc[4]=['10-13','18-80', int(round(overlap_10_13_and_18_80)), round(percent_overlap_10_80,2)]\n",
    "mf.loc[5]=['14-17','18-80', int(round(overlap_14_17_and_18_80)), round(percent_overlap_14_80,2)]\n",
    "mf"
   ]
  },
  {
   "cell_type": "code",
   "execution_count": 52,
   "metadata": {
    "collapsed": true
   },
   "outputs": [],
   "source": [
    "def highlight_max(s):\n",
    "    '''\n",
    "    highlight the maximum in a Series yellow.\n",
    "    '''\n",
    "    is_max = s == s.max()\n",
    "    return ['background-color: A5FF4E' if v else '' for v in is_max]"
   ]
  },
  {
   "cell_type": "code",
   "execution_count": 53,
   "metadata": {
    "collapsed": false
   },
   "outputs": [
    {
     "data": {
      "text/html": [
       "\n",
       "        <style  type=\"text/css\" >\n",
       "        \n",
       "        \n",
       "            #T_82013d38_2ac1_11e7_afc0_0050568627a6row0_col0 {\n",
       "            \n",
       "                : ;\n",
       "            \n",
       "                background-color:  A5FF4E;\n",
       "            \n",
       "            }\n",
       "        \n",
       "            #T_82013d38_2ac1_11e7_afc0_0050568627a6row0_col2 {\n",
       "            \n",
       "                background-color:  #6d93aa;\n",
       "            \n",
       "                : ;\n",
       "            \n",
       "                : ;\n",
       "            \n",
       "                background-color:  #6d93aa;\n",
       "            \n",
       "            }\n",
       "        \n",
       "            #T_82013d38_2ac1_11e7_afc0_0050568627a6row0_col3 {\n",
       "            \n",
       "                background-color:  #7fc97f;\n",
       "            \n",
       "                : ;\n",
       "            \n",
       "                background-color:  A5FF4E;\n",
       "            \n",
       "                background-color:  #7fc97f;\n",
       "            \n",
       "            }\n",
       "        \n",
       "            #T_82013d38_2ac1_11e7_afc0_0050568627a6row1_col0 {\n",
       "            \n",
       "                : ;\n",
       "            \n",
       "                background-color:  A5FF4E;\n",
       "            \n",
       "            }\n",
       "        \n",
       "            #T_82013d38_2ac1_11e7_afc0_0050568627a6row1_col2 {\n",
       "            \n",
       "                background-color:  #4c7bae;\n",
       "            \n",
       "                : ;\n",
       "            \n",
       "                : ;\n",
       "            \n",
       "                background-color:  #4c7bae;\n",
       "            \n",
       "            }\n",
       "        \n",
       "            #T_82013d38_2ac1_11e7_afc0_0050568627a6row1_col3 {\n",
       "            \n",
       "                background-color:  #83a3a7;\n",
       "            \n",
       "                : ;\n",
       "            \n",
       "                : ;\n",
       "            \n",
       "                background-color:  #83a3a7;\n",
       "            \n",
       "            }\n",
       "        \n",
       "            #T_82013d38_2ac1_11e7_afc0_0050568627a6row2_col0 {\n",
       "            \n",
       "                : ;\n",
       "            \n",
       "                background-color:  A5FF4E;\n",
       "            \n",
       "            }\n",
       "        \n",
       "            #T_82013d38_2ac1_11e7_afc0_0050568627a6row2_col1 {\n",
       "            \n",
       "                : ;\n",
       "            \n",
       "                background-color:  A5FF4E;\n",
       "            \n",
       "            }\n",
       "        \n",
       "            #T_82013d38_2ac1_11e7_afc0_0050568627a6row2_col2 {\n",
       "            \n",
       "                background-color:  #b3258f;\n",
       "            \n",
       "                : ;\n",
       "            \n",
       "                : ;\n",
       "            \n",
       "                background-color:  #b3258f;\n",
       "            \n",
       "            }\n",
       "        \n",
       "            #T_82013d38_2ac1_11e7_afc0_0050568627a6row2_col3 {\n",
       "            \n",
       "                background-color:  #b3258f;\n",
       "            \n",
       "                : ;\n",
       "            \n",
       "                : ;\n",
       "            \n",
       "                background-color:  #b3258f;\n",
       "            \n",
       "            }\n",
       "        \n",
       "            #T_82013d38_2ac1_11e7_afc0_0050568627a6row3_col2 {\n",
       "            \n",
       "                background-color:  #7fc97f;\n",
       "            \n",
       "                : ;\n",
       "            \n",
       "                background-color:  A5FF4E;\n",
       "            \n",
       "                background-color:  #7fc97f;\n",
       "            \n",
       "            }\n",
       "        \n",
       "            #T_82013d38_2ac1_11e7_afc0_0050568627a6row3_col3 {\n",
       "            \n",
       "                background-color:  #83a3a7;\n",
       "            \n",
       "                : ;\n",
       "            \n",
       "                : ;\n",
       "            \n",
       "                background-color:  #83a3a7;\n",
       "            \n",
       "            }\n",
       "        \n",
       "            #T_82013d38_2ac1_11e7_afc0_0050568627a6row4_col1 {\n",
       "            \n",
       "                : ;\n",
       "            \n",
       "                background-color:  A5FF4E;\n",
       "            \n",
       "            }\n",
       "        \n",
       "            #T_82013d38_2ac1_11e7_afc0_0050568627a6row4_col2 {\n",
       "            \n",
       "                background-color:  #99b3a5;\n",
       "            \n",
       "                : ;\n",
       "            \n",
       "                : ;\n",
       "            \n",
       "                background-color:  #99b3a5;\n",
       "            \n",
       "            }\n",
       "        \n",
       "            #T_82013d38_2ac1_11e7_afc0_0050568627a6row4_col3 {\n",
       "            \n",
       "                background-color:  #fee591;\n",
       "            \n",
       "                : ;\n",
       "            \n",
       "                : ;\n",
       "            \n",
       "                background-color:  #fee591;\n",
       "            \n",
       "            }\n",
       "        \n",
       "            #T_82013d38_2ac1_11e7_afc0_0050568627a6row5_col1 {\n",
       "            \n",
       "                : ;\n",
       "            \n",
       "                background-color:  A5FF4E;\n",
       "            \n",
       "            }\n",
       "        \n",
       "            #T_82013d38_2ac1_11e7_afc0_0050568627a6row5_col2 {\n",
       "            \n",
       "                background-color:  #ebf09b;\n",
       "            \n",
       "                : ;\n",
       "            \n",
       "                : ;\n",
       "            \n",
       "                background-color:  #ebf09b;\n",
       "            \n",
       "            }\n",
       "        \n",
       "            #T_82013d38_2ac1_11e7_afc0_0050568627a6row5_col3 {\n",
       "            \n",
       "                background-color:  #fee591;\n",
       "            \n",
       "                : ;\n",
       "            \n",
       "                : ;\n",
       "            \n",
       "                background-color:  #fee591;\n",
       "            \n",
       "            }\n",
       "        \n",
       "        </style>\n",
       "\n",
       "        <table id=\"T_82013d38_2ac1_11e7_afc0_0050568627a6\" None>\n",
       "        \n",
       "\n",
       "        <thead>\n",
       "            \n",
       "            <tr>\n",
       "                \n",
       "                \n",
       "                <th class=\"blank level0\" >\n",
       "                  \n",
       "                \n",
       "                \n",
       "                \n",
       "                <th class=\"col_heading level0 col0\" colspan=1>\n",
       "                  Ages_(years)\n",
       "                \n",
       "                \n",
       "                \n",
       "                <th class=\"col_heading level0 col1\" colspan=1>\n",
       "                  compared_with_(years)\n",
       "                \n",
       "                \n",
       "                \n",
       "                <th class=\"col_heading level0 col2\" colspan=1>\n",
       "                  overlapped_words\n",
       "                \n",
       "                \n",
       "                \n",
       "                <th class=\"col_heading level0 col3\" colspan=1>\n",
       "                  Percentage_overlap_(%)\n",
       "                \n",
       "                \n",
       "            </tr>\n",
       "            \n",
       "        </thead>\n",
       "        <tbody>\n",
       "            \n",
       "            <tr>\n",
       "                \n",
       "                \n",
       "                <th id=\"T_82013d38_2ac1_11e7_afc0_0050568627a6\"\n",
       "                 class=\"row_heading level0 row0\" rowspan=1>\n",
       "                    0\n",
       "                \n",
       "                \n",
       "                \n",
       "                <td id=\"T_82013d38_2ac1_11e7_afc0_0050568627a6row0_col0\"\n",
       "                 class=\"data row0 col0\" >\n",
       "                    6-9\n",
       "                \n",
       "                \n",
       "                \n",
       "                <td id=\"T_82013d38_2ac1_11e7_afc0_0050568627a6row0_col1\"\n",
       "                 class=\"data row0 col1\" >\n",
       "                    10-13\n",
       "                \n",
       "                \n",
       "                \n",
       "                <td id=\"T_82013d38_2ac1_11e7_afc0_0050568627a6row0_col2\"\n",
       "                 class=\"data row0 col2\" >\n",
       "                    5654\n",
       "                \n",
       "                \n",
       "                \n",
       "                <td id=\"T_82013d38_2ac1_11e7_afc0_0050568627a6row0_col3\"\n",
       "                 class=\"data row0 col3\" >\n",
       "                    28%\n",
       "                \n",
       "                \n",
       "            </tr>\n",
       "            \n",
       "            <tr>\n",
       "                \n",
       "                \n",
       "                <th id=\"T_82013d38_2ac1_11e7_afc0_0050568627a6\"\n",
       "                 class=\"row_heading level0 row1\" rowspan=1>\n",
       "                    1\n",
       "                \n",
       "                \n",
       "                \n",
       "                <td id=\"T_82013d38_2ac1_11e7_afc0_0050568627a6row1_col0\"\n",
       "                 class=\"data row1 col0\" >\n",
       "                    6-9\n",
       "                \n",
       "                \n",
       "                \n",
       "                <td id=\"T_82013d38_2ac1_11e7_afc0_0050568627a6row1_col1\"\n",
       "                 class=\"data row1 col1\" >\n",
       "                    14-17\n",
       "                \n",
       "                \n",
       "                \n",
       "                <td id=\"T_82013d38_2ac1_11e7_afc0_0050568627a6row1_col2\"\n",
       "                 class=\"data row1 col2\" >\n",
       "                    5282\n",
       "                \n",
       "                \n",
       "                \n",
       "                <td id=\"T_82013d38_2ac1_11e7_afc0_0050568627a6row1_col3\"\n",
       "                 class=\"data row1 col3\" >\n",
       "                    21%\n",
       "                \n",
       "                \n",
       "            </tr>\n",
       "            \n",
       "            <tr>\n",
       "                \n",
       "                \n",
       "                <th id=\"T_82013d38_2ac1_11e7_afc0_0050568627a6\"\n",
       "                 class=\"row_heading level0 row2\" rowspan=1>\n",
       "                    2\n",
       "                \n",
       "                \n",
       "                \n",
       "                <td id=\"T_82013d38_2ac1_11e7_afc0_0050568627a6row2_col0\"\n",
       "                 class=\"data row2 col0\" >\n",
       "                    6-9\n",
       "                \n",
       "                \n",
       "                \n",
       "                <td id=\"T_82013d38_2ac1_11e7_afc0_0050568627a6row2_col1\"\n",
       "                 class=\"data row2 col1\" >\n",
       "                    18-80\n",
       "                \n",
       "                \n",
       "                \n",
       "                <td id=\"T_82013d38_2ac1_11e7_afc0_0050568627a6row2_col2\"\n",
       "                 class=\"data row2 col2\" >\n",
       "                    3594\n",
       "                \n",
       "                \n",
       "                \n",
       "                <td id=\"T_82013d38_2ac1_11e7_afc0_0050568627a6row2_col3\"\n",
       "                 class=\"data row2 col3\" >\n",
       "                    19%\n",
       "                \n",
       "                \n",
       "            </tr>\n",
       "            \n",
       "            <tr>\n",
       "                \n",
       "                \n",
       "                <th id=\"T_82013d38_2ac1_11e7_afc0_0050568627a6\"\n",
       "                 class=\"row_heading level0 row3\" rowspan=1>\n",
       "                    3\n",
       "                \n",
       "                \n",
       "                \n",
       "                <td id=\"T_82013d38_2ac1_11e7_afc0_0050568627a6row3_col0\"\n",
       "                 class=\"data row3 col0\" >\n",
       "                    10-13\n",
       "                \n",
       "                \n",
       "                \n",
       "                <td id=\"T_82013d38_2ac1_11e7_afc0_0050568627a6row3_col1\"\n",
       "                 class=\"data row3 col1\" >\n",
       "                    14-17\n",
       "                \n",
       "                \n",
       "                \n",
       "                <td id=\"T_82013d38_2ac1_11e7_afc0_0050568627a6row3_col2\"\n",
       "                 class=\"data row3 col2\" >\n",
       "                    13859\n",
       "                \n",
       "                \n",
       "                \n",
       "                <td id=\"T_82013d38_2ac1_11e7_afc0_0050568627a6row3_col3\"\n",
       "                 class=\"data row3 col3\" >\n",
       "                    21%\n",
       "                \n",
       "                \n",
       "            </tr>\n",
       "            \n",
       "            <tr>\n",
       "                \n",
       "                \n",
       "                <th id=\"T_82013d38_2ac1_11e7_afc0_0050568627a6\"\n",
       "                 class=\"row_heading level0 row4\" rowspan=1>\n",
       "                    4\n",
       "                \n",
       "                \n",
       "                \n",
       "                <td id=\"T_82013d38_2ac1_11e7_afc0_0050568627a6row4_col0\"\n",
       "                 class=\"data row4 col0\" >\n",
       "                    10-13\n",
       "                \n",
       "                \n",
       "                \n",
       "                <td id=\"T_82013d38_2ac1_11e7_afc0_0050568627a6row4_col1\"\n",
       "                 class=\"data row4 col1\" >\n",
       "                    18-80\n",
       "                \n",
       "                \n",
       "                \n",
       "                <td id=\"T_82013d38_2ac1_11e7_afc0_0050568627a6row4_col2\"\n",
       "                 class=\"data row4 col2\" >\n",
       "                    6105\n",
       "                \n",
       "                \n",
       "                \n",
       "                <td id=\"T_82013d38_2ac1_11e7_afc0_0050568627a6row4_col3\"\n",
       "                 class=\"data row4 col3\" >\n",
       "                    23%\n",
       "                \n",
       "                \n",
       "            </tr>\n",
       "            \n",
       "            <tr>\n",
       "                \n",
       "                \n",
       "                <th id=\"T_82013d38_2ac1_11e7_afc0_0050568627a6\"\n",
       "                 class=\"row_heading level0 row5\" rowspan=1>\n",
       "                    5\n",
       "                \n",
       "                \n",
       "                \n",
       "                <td id=\"T_82013d38_2ac1_11e7_afc0_0050568627a6row5_col0\"\n",
       "                 class=\"data row5 col0\" >\n",
       "                    14-17\n",
       "                \n",
       "                \n",
       "                \n",
       "                <td id=\"T_82013d38_2ac1_11e7_afc0_0050568627a6row5_col1\"\n",
       "                 class=\"data row5 col1\" >\n",
       "                    18-80\n",
       "                \n",
       "                \n",
       "                \n",
       "                <td id=\"T_82013d38_2ac1_11e7_afc0_0050568627a6row5_col2\"\n",
       "                 class=\"data row5 col2\" >\n",
       "                    7020\n",
       "                \n",
       "                \n",
       "                \n",
       "                <td id=\"T_82013d38_2ac1_11e7_afc0_0050568627a6row5_col3\"\n",
       "                 class=\"data row5 col3\" >\n",
       "                    23%\n",
       "                \n",
       "                \n",
       "            </tr>\n",
       "            \n",
       "        </tbody>\n",
       "        </table>\n",
       "        "
      ],
      "text/plain": [
       "<pandas.formats.style.Styler at 0x7f6a3f68bef0>"
      ]
     },
     "execution_count": 53,
     "metadata": {},
     "output_type": "execute_result"
    }
   ],
   "source": [
    "#Overlapped words\n",
    "mf.style.\\\n",
    "    format({'Percentage_overlap_(%)': \"{:.0%}\"}).\\\n",
    "    background_gradient(cmap='Accent_r', low=.5, high=0).highlight_null('red').\\\n",
    "    apply(highlight_max).\\\n",
    "    background_gradient(cmap='Accent_r', low=.5, high=0)"
   ]
  },
  {
   "cell_type": "code",
   "execution_count": null,
   "metadata": {
    "collapsed": true
   },
   "outputs": [],
   "source": []
  },
  {
   "cell_type": "code",
   "execution_count": null,
   "metadata": {
    "collapsed": true
   },
   "outputs": [],
   "source": [
    "cm = nltk.ConfusionMatrix(gold, test)\n",
    "print(cm.pretty_format(sort_by_count=True, show_percents=True, truncate=10))"
   ]
  },
  {
   "cell_type": "code",
   "execution_count": 56,
   "metadata": {
    "collapsed": true
   },
   "outputs": [],
   "source": [
    "lm_data=pd.read_csv('data/lm_result_five.csv', delimiter=',')"
   ]
  },
  {
   "cell_type": "code",
   "execution_count": 59,
   "metadata": {
    "collapsed": false
   },
   "outputs": [
    {
     "data": {
      "text/html": [
       "<div>\n",
       "<table border=\"1\" class=\"dataframe\">\n",
       "  <thead>\n",
       "    <tr style=\"text-align: right;\">\n",
       "      <th></th>\n",
       "      <th>Book</th>\n",
       "      <th>Predicted</th>\n",
       "      <th>Real</th>\n",
       "      <th>Perplexity_for_right_group_label</th>\n",
       "    </tr>\n",
       "  </thead>\n",
       "  <tbody>\n",
       "    <tr>\n",
       "      <th>0</th>\n",
       "      <td>Butterflies</td>\n",
       "      <td>six_to_nine</td>\n",
       "      <td>six_to_nine</td>\n",
       "      <td>60.37692</td>\n",
       "    </tr>\n",
       "    <tr>\n",
       "      <th>1</th>\n",
       "      <td>Brad-Saves-Christmas-FKB</td>\n",
       "      <td>ten_to_thirteen</td>\n",
       "      <td>six_to_nine</td>\n",
       "      <td>354.53890</td>\n",
       "    </tr>\n",
       "    <tr>\n",
       "      <th>2</th>\n",
       "      <td>bhabhloo-bear-s-adventure-FKB-childrens-book</td>\n",
       "      <td>six_to_nine</td>\n",
       "      <td>six_to_nine</td>\n",
       "      <td>95.34423</td>\n",
       "    </tr>\n",
       "    <tr>\n",
       "      <th>3</th>\n",
       "      <td>Bees-Like-Flowers-FKB-Kids-Stories</td>\n",
       "      <td>six_to_nine</td>\n",
       "      <td>six_to_nine</td>\n",
       "      <td>517.93540</td>\n",
       "    </tr>\n",
       "    <tr>\n",
       "      <th>4</th>\n",
       "      <td>Bears</td>\n",
       "      <td>six_to_nine</td>\n",
       "      <td>six_to_nine</td>\n",
       "      <td>41.95480</td>\n",
       "    </tr>\n",
       "  </tbody>\n",
       "</table>\n",
       "</div>"
      ],
      "text/plain": [
       "                                           Book        Predicted         Real  \\\n",
       "0                                   Butterflies      six_to_nine  six_to_nine   \n",
       "1                      Brad-Saves-Christmas-FKB  ten_to_thirteen  six_to_nine   \n",
       "2  bhabhloo-bear-s-adventure-FKB-childrens-book      six_to_nine  six_to_nine   \n",
       "3            Bees-Like-Flowers-FKB-Kids-Stories      six_to_nine  six_to_nine   \n",
       "4                                         Bears      six_to_nine  six_to_nine   \n",
       "\n",
       "   Perplexity_for_right_group_label  \n",
       "0                          60.37692  \n",
       "1                         354.53890  \n",
       "2                          95.34423  \n",
       "3                         517.93540  \n",
       "4                          41.95480  "
      ]
     },
     "execution_count": 59,
     "metadata": {},
     "output_type": "execute_result"
    }
   ],
   "source": [
    "lm_data[:5]"
   ]
  },
  {
   "cell_type": "code",
   "execution_count": 60,
   "metadata": {
    "collapsed": true
   },
   "outputs": [],
   "source": [
    "gold2=[a for a in lm_data.Real]\n",
    "test2=[a for a in lm_data.Predicted]"
   ]
  },
  {
   "cell_type": "code",
   "execution_count": 61,
   "metadata": {
    "collapsed": false
   },
   "outputs": [
    {
     "name": "stdout",
     "output_type": "stream",
     "text": [
      "                      |                           f |\n",
      "                      |                           o |\n",
      "                      |                           u |\n",
      "                      |             e             r |\n",
      "                      |             i             t |\n",
      "                      |             g             e |\n",
      "                      |             h      t      e |\n",
      "                      |             t      e      n |\n",
      "                      |             e      n      _ |\n",
      "                      |             e      _      t |\n",
      "                      |      s      n      t      o |\n",
      "                      |      i      _      o      _ |\n",
      "                      |      x      t      _      s |\n",
      "                      |      _      o      t      e |\n",
      "                      |      t      _      h      v |\n",
      "                      |      o      e      i      e |\n",
      "                      |      _      i      r      n |\n",
      "                      |      n      g      t      t |\n",
      "                      |      i      h      e      e |\n",
      "                      |      n      t      e      e |\n",
      "                      |      e      y      n      n |\n",
      "----------------------+-----------------------------+\n",
      "          six_to_nine | <45.8%>     .   4.2%      . |\n",
      "   eighteen_to_eighty |      . <20.8%>     .      . |\n",
      "      ten_to_thirteen |  12.5%      .  <8.3%>     . |\n",
      "fourteen_to_seventeen |      .      .      .  <8.3%>|\n",
      "----------------------+-----------------------------+\n",
      "(row = reference; col = test)\n",
      "\n"
     ]
    }
   ],
   "source": [
    "cm2 = nltk.ConfusionMatrix(gold2, test2)\n",
    "print(cm2.pretty_format(sort_by_count=True, show_percents=True, truncate=10))"
   ]
  },
  {
   "cell_type": "code",
   "execution_count": null,
   "metadata": {
    "collapsed": true
   },
   "outputs": [],
   "source": []
  }
 ],
 "metadata": {
  "anaconda-cloud": {},
  "kernelspec": {
   "display_name": "Python [default]",
   "language": "python",
   "name": "python3"
  },
  "language_info": {
   "codemirror_mode": {
    "name": "ipython",
    "version": 3
   },
   "file_extension": ".py",
   "mimetype": "text/x-python",
   "name": "python",
   "nbconvert_exporter": "python",
   "pygments_lexer": "ipython3",
   "version": "3.5.2"
  }
 },
 "nbformat": 4,
 "nbformat_minor": 1
}
